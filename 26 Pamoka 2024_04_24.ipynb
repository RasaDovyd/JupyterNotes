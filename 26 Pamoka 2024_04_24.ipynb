{
 "cells": [
  {
   "cell_type": "code",
   "execution_count": null,
   "metadata": {},
   "outputs": [],
   "source": [
    "# Testavimas\n",
    "\n",
    "# Yra ivairiu testavimo rusiu, pvz.: White Box testavimas- tai testavimas is programines puses. Black box testing- testavimas is vartotojo puses. Grey box testing- kai testuojama matant tiek koda, tiek is vartojoto puses, apima abu whitebox ir blackbox tesavimus. Mes testuosi e is programuotojo puses- koda. Ta naudosim Pytest, vienos funkcijos, vieno metodo testus darysim."
   ]
  },
  {
   "cell_type": "code",
   "execution_count": 1,
   "metadata": {},
   "outputs": [
    {
     "name": "stdout",
     "output_type": "stream",
     "text": [
      "Defaulting to user installation because normal site-packages is not writeableNote: you may need to restart the kernel to use updated packages.\n",
      "\n",
      "Collecting pytest\n",
      "  Downloading pytest-8.1.1-py3-none-any.whl.metadata (7.6 kB)\n",
      "Collecting iniconfig (from pytest)\n",
      "  Downloading iniconfig-2.0.0-py3-none-any.whl.metadata (2.6 kB)\n",
      "Requirement already satisfied: packaging in c:\\users\\dovydaiciai\\appdata\\local\\packages\\pythonsoftwarefoundation.python.3.12_qbz5n2kfra8p0\\localcache\\local-packages\\python312\\site-packages (from pytest) (24.0)\n",
      "Collecting pluggy<2.0,>=1.4 (from pytest)\n",
      "  Downloading pluggy-1.5.0-py3-none-any.whl.metadata (4.8 kB)\n",
      "Requirement already satisfied: colorama in c:\\users\\dovydaiciai\\appdata\\local\\packages\\pythonsoftwarefoundation.python.3.12_qbz5n2kfra8p0\\localcache\\local-packages\\python312\\site-packages (from pytest) (0.4.6)\n",
      "Downloading pytest-8.1.1-py3-none-any.whl (337 kB)\n",
      "   ---------------------------------------- 0.0/337.4 kB ? eta -:--:--\n",
      "   ---------------------------------------- 0.0/337.4 kB ? eta -:--:--\n",
      "   - -------------------------------------- 10.2/337.4 kB ? eta -:--:--\n",
      "   --- ----------------------------------- 30.7/337.4 kB 435.7 kB/s eta 0:00:01\n",
      "   ------- ------------------------------- 61.4/337.4 kB 465.5 kB/s eta 0:00:01\n",
      "   -------------------- ------------------- 174.1/337.4 kB 1.0 MB/s eta 0:00:01\n",
      "   -------------------------------------- - 327.7/337.4 kB 1.6 MB/s eta 0:00:01\n",
      "   ---------------------------------------- 337.4/337.4 kB 1.3 MB/s eta 0:00:00\n",
      "Downloading pluggy-1.5.0-py3-none-any.whl (20 kB)\n",
      "Downloading iniconfig-2.0.0-py3-none-any.whl (5.9 kB)\n",
      "Installing collected packages: pluggy, iniconfig, pytest\n",
      "Successfully installed iniconfig-2.0.0 pluggy-1.5.0 pytest-8.1.1\n"
     ]
    }
   ],
   "source": [
    "pip install pytest"
   ]
  }
 ],
 "metadata": {
  "kernelspec": {
   "display_name": "Python 3",
   "language": "python",
   "name": "python3"
  },
  "language_info": {
   "codemirror_mode": {
    "name": "ipython",
    "version": 3
   },
   "file_extension": ".py",
   "mimetype": "text/x-python",
   "name": "python",
   "nbconvert_exporter": "python",
   "pygments_lexer": "ipython3",
   "version": "3.12.3"
  }
 },
 "nbformat": 4,
 "nbformat_minor": 2
}
