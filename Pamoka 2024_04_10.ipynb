{
 "cells": [
  {
   "cell_type": "code",
   "execution_count": 33,
   "metadata": {},
   "outputs": [],
   "source": [
    "# Sukurkite Mokinys klasę, kuri turės mokinio vardą, pavardę ir sąrašą pažymių. Įtraukite metodus,\n",
    "# kurie skaičiuotų vidurkį, didžiausią ir mažiausią pažymį.\n",
    "\n",
    "# Sukurkite Abiturientas klasę, kuri paveldi Mokinys klasę ir prideda papildomą funkcionalumą, pvz.,\n",
    "# gebėjimą pridėti egzamino rezultatus ir skaičiuoti bendrą vidurkį, įskaitant ir egzamino rezultatus.\n",
    "\n",
    "# Sukurkite Mokykla klasę, kuri turės sąrašą Mokinys objektų. Įtraukite metodus, kurie leistų pridėti\n",
    "# naują mokinį, pašalinti mokinį, bei skaičiuoti visos mokyklos mokinių pažymių vidurkius.\n",
    "\n",
    "# Atnaujinkite Mokinys klasę taip, kad pažymių sąrašas būtų privatus. Sukurkite metodus, kurie\n",
    "# leistų saugiai pridėti ir gauti pažymius, užtikrinant, kad negalima būtų pridėti netinkamų pažymių\n",
    "# (pvz., neigiamų ar didesnių nei 10).\n",
    "\n",
    "# Klasės turi būti aprašytos jūsų kuriamame modulyje.\n",
    "# Klases tikrinimui importuokite taip, kad \n",
    "# NEREIKĖTŲ modulio pavadinimo prieš klasę naudoti."
   ]
  },
  {
   "cell_type": "code",
   "execution_count": 34,
   "metadata": {},
   "outputs": [
    {
     "name": "stdout",
     "output_type": "stream",
     "text": [
      "Tomas,Tomaitis: (8.333333333333334, 10, 6)\n"
     ]
    }
   ],
   "source": [
    "# Sukurkite Mokinys klasę, kuri turės mokinio vardą, pavardę ir sąrašą pažymių. Įtraukite metodus,\n",
    "# kurie skaičiuotų vidurkį, didžiausią ir mažiausią pažymį.\n",
    "\n",
    "class Mokinys():\n",
    "    def __init__(self, Vardas, Pavarde, pazymiu_sarasas):\n",
    "        self.Vardas = Vardas\n",
    "        self.Pavarde = Pavarde\n",
    "        self.pazymiu_sarasas= pazymiu_sarasas\n",
    "        self.vid_max_min()\n",
    "\n",
    "    def vid_max_min(self):\n",
    "        vidurkis = sum(self.pazymiu_sarasas)/len(self.pazymiu_sarasas)\n",
    "        maximumas = max(self.pazymiu_sarasas)\n",
    "        mininimumas = min(self.pazymiu_sarasas)\n",
    "        return (vidurkis, maximumas, mininimumas)\n",
    "        \n",
    "mokinys1= Mokinys('Tomas', 'Tomaitis', [8,9,10,6,8,7,10,9,8])\n",
    "print(f'{mokinys1.Vardas},{mokinys1.Pavarde}: {mokinys1.vid_max_min()}')"
   ]
  },
  {
   "cell_type": "code",
   "execution_count": 35,
   "metadata": {},
   "outputs": [
    {
     "name": "stdout",
     "output_type": "stream",
     "text": [
      "Tomas,Tomaitis: 8.545454545454545\n"
     ]
    }
   ],
   "source": [
    "# Sukurkite Abiturientas klasę, kuri paveldi Mokinys klasę ir prideda papildomą funkcionalumą, pvz.,\n",
    "# gebėjimą pridėti egzamino rezultatus ir skaičiuoti bendrą vidurkį, įskaitant ir egzamino rezultatus.\n",
    "\n",
    "class Abiturientas(Mokinys):\n",
    "    def __init__ (self, Vardas, Pavarde, pazymiu_sarasas, egzminai):\n",
    "        super().__init__(Vardas, Pavarde, pazymiu_sarasas)\n",
    "        self.egzaminai = egzminai\n",
    "        self.prideti_egz_rez()\n",
    "\n",
    "    def prideti_egz_rez(self):\n",
    "        bendras_sarasas = self.pazymiu_sarasas + self.egzaminai\n",
    "        bendras_vidurkits = sum(bendras_sarasas)/len(bendras_sarasas)\n",
    "        return bendras_vidurkits\n",
    "    \n",
    "abiturientas1 = Abiturientas('Tomas', 'Tomaitis', [8,9,10,6,8,7,10,9,8], [9,10])\n",
    "print(f'{abiturientas1.Vardas},{abiturientas1.Pavarde}: {abiturientas1.prideti_egz_rez()}')"
   ]
  },
  {
   "cell_type": "code",
   "execution_count": 1,
   "metadata": {},
   "outputs": [
    {
     "ename": "NameError",
     "evalue": "name 'Mokinys' is not defined",
     "output_type": "error",
     "traceback": [
      "\u001b[1;31m---------------------------------------------------------------------------\u001b[0m",
      "\u001b[1;31mNameError\u001b[0m                                 Traceback (most recent call last)",
      "Cell \u001b[1;32mIn[1], line 4\u001b[0m\n\u001b[0;32m      1\u001b[0m \u001b[38;5;66;03m# Sukurkite Mokykla klasę, kuri turės sąrašą Mokinys objektų. Įtraukite metodus, kurie leistų pridėti\u001b[39;00m\n\u001b[0;32m      2\u001b[0m \u001b[38;5;66;03m# naują mokinį, pašalinti mokinį, bei skaičiuoti visos mokyklos mokinių pažymių vidurkius.\u001b[39;00m\n\u001b[1;32m----> 4\u001b[0m \u001b[38;5;28;01mclass\u001b[39;00m \u001b[38;5;21;01mMokykla\u001b[39;00m(\u001b[43mMokinys\u001b[49m):\n\u001b[0;32m      5\u001b[0m     \u001b[38;5;28;01mdef\u001b[39;00m \u001b[38;5;21m__init__\u001b[39m(\u001b[38;5;28mself\u001b[39m, Mokiniu_sarasas, mokinukas):\n\u001b[0;32m      6\u001b[0m         \u001b[38;5;28mself\u001b[39m\u001b[38;5;241m.\u001b[39mMokiniu_sarasas\u001b[38;5;241m=\u001b[39m Mokiniu_sarasas\n",
      "\u001b[1;31mNameError\u001b[0m: name 'Mokinys' is not defined"
     ]
    }
   ],
   "source": [
    "# Sukurkite Mokykla klasę, kuri turės sąrašą Mokinys objektų. Įtraukite metodus, kurie leistų pridėti\n",
    "# naują mokinį, pašalinti mokinį, bei skaičiuoti visos mokyklos mokinių pažymių vidurkius.\n",
    "\n",
    "class Mokykla(Mokinys):\n",
    "    def __init__(self, Mokiniu_sarasas, mokinukas):\n",
    "        self.Mokiniu_sarasas= Mokiniu_sarasas\n",
    "        self.Mokinukas= mokinukas\n",
    "\n",
    "    def pridedam_mokini(self):\n",
    "        add_mokinys= self.Mokiniu_sarasas+ self.mokinukas\n",
    "        return add_mokinys\n",
    "\n",
    "    def atimam_mokini(self):\n",
    "        odd_mokinys= self.Mokiniu_sarasas- self.mokinukas\n",
    "        return odd_mokinys\n",
    "\n",
    "    def mokyklos_vidurkis(self):\n",
    "        mokiniu_pazymiai = [] \n",
    "        for elementas in Mokinys:\n",
    "            mokiniu_pazymiai = mokiniu_pazymiai+ Mokinys.pazymiu_sarasas\n",
    "        visu_mok_vidurkis = sum(mokiniu_pazymiai)/len(mokiniu_pazymiai)\n",
    "        return visu_mok_vidurkis\n",
    "    \n",
    "mokykla1 = Mokykla('Ruta', 'Rutaite', [8,9,10,6,8,7,10,9,8])\n",
    "print(f'{mokykla1.Vardas},{mokykla1.Pavarde}: {mokykla1.mokyklos_vidurkis()}')\n",
    "\n",
    "# abiturientas1 = Abiturientas('Tomas', 'Tomaitis', [8,9,10,6,8,7,10,9,8], [9,10])\n",
    "# print(f'{abiturientas1.Vardas},{abiturientas1.Pavarde}: {abiturientas1.prideti_egz_rez()}')\n",
    "\n",
    "# mokiniu_pazymiai.extend(elementas.mokinys1) # extend prideda prie saraso reikiamus elementus\n",
    "# extend alternatyva\n",
    "\n",
    "# VisuMokiniuPazymiai = VisuMokiniuPazymiai + mokinys.pazymiai"
   ]
  },
  {
   "cell_type": "code",
   "execution_count": 40,
   "metadata": {},
   "outputs": [
    {
     "ename": "TypeError",
     "evalue": "Mokinys.__init__() missing 1 required positional argument: 'pazymiu_sarasas'",
     "output_type": "error",
     "traceback": [
      "\u001b[1;31m---------------------------------------------------------------------------\u001b[0m",
      "\u001b[1;31mTypeError\u001b[0m                                 Traceback (most recent call last)",
      "Cell \u001b[1;32mIn[40], line 17\u001b[0m\n\u001b[0;32m     15\u001b[0m         \u001b[38;5;28;01mreturn\u001b[39;00m VisuMokiniuVidurkis\n\u001b[0;32m     16\u001b[0m mokykla \u001b[38;5;241m=\u001b[39m Mokykla()\n\u001b[1;32m---> 17\u001b[0m mokinys3 \u001b[38;5;241m=\u001b[39m \u001b[43mMokinys\u001b[49m\u001b[43m(\u001b[49m\u001b[38;5;124;43m'\u001b[39;49m\u001b[38;5;124;43mVardenis3\u001b[39;49m\u001b[38;5;124;43m'\u001b[39;49m\u001b[43m,\u001b[49m\u001b[43m \u001b[49m\u001b[38;5;124;43m'\u001b[39;49m\u001b[38;5;124;43mPavardenis3\u001b[39;49m\u001b[38;5;124;43m'\u001b[39;49m\u001b[43m)\u001b[49m\n\u001b[0;32m     18\u001b[0m mokykla\u001b[38;5;241m.\u001b[39maddMokinys(mokinys1)\n\u001b[0;32m     19\u001b[0m mokykla\u001b[38;5;241m.\u001b[39maddMokinys(mokinys2)\n",
      "\u001b[1;31mTypeError\u001b[0m: Mokinys.__init__() missing 1 required positional argument: 'pazymiu_sarasas'"
     ]
    }
   ],
   "source": [
    "# Remigijaus pavyzdys:\n",
    "\n",
    "class Mokykla():\n",
    "    def __init__(self):\n",
    "        self.Mokiniai = []\n",
    "    def addMokinys(self, mokinys):\n",
    "        self.Mokiniai.append(mokinys)\n",
    "    def removeMokinys(self, mokinys):\n",
    "        self.Mokiniai.remove(mokinys)\n",
    "    def VisuMokiniuVidurkis(self):\n",
    "        VisuMokiniuPazymiai = []\n",
    "        for mokinys in self.Mokiniai:\n",
    "            VisuMokiniuPazymiai.extend(mokinys.pazymiai) # extend leidzia sujungti skirtingus sarasus, prisplecia sarasas, esantis pries extend metoda\n",
    "        VisuMokiniuVidurkis = sum(VisuMokiniuPazymiai)/len(VisuMokiniuPazymiai)\n",
    "        return VisuMokiniuVidurkis\n",
    "mokykla = Mokykla()\n",
    "mokinys3 = Mokinys('Vardenis3', 'Pavardenis3')\n",
    "mokykla.addMokinys(mokinys1)\n",
    "mokykla.addMokinys(mokinys2)\n",
    "mokykla.addMokinys(mokinys3)\n",
    "print(mokykla.VisuMokiniuVidurkis())\n",
    "# extend alternatyva\n",
    "# VisuMokiniuPazymiai = VisuMokiniuPazymiai + mokinys.pazymiai"
   ]
  },
  {
   "cell_type": "code",
   "execution_count": 23,
   "metadata": {},
   "outputs": [
    {
     "name": "stdout",
     "output_type": "stream",
     "text": [
      "Vidurkis 7.714285714285714\n",
      "Didysis pazymys 4\n",
      "Maziausias pazymys 10\n",
      "Bendras vidurkis 7.0\n"
     ]
    }
   ],
   "source": [
    "# kolegu pvz:\n",
    "class Mokinys():\n",
    "    def __init__(self, vardas , pavarde , pazymiai):\n",
    "        self.vardas = vardas\n",
    "        self.pavarde = pavarde\n",
    "        self.pazymiai = pazymiai\n",
    "    \n",
    "    def vidurkisf(self):\n",
    "        vidurkis = sum(self.pazymiai) / len(self.pazymiai)\n",
    "        return vidurkis\n",
    "    \n",
    "    def didziausiaspazymysf(self):\n",
    "        dickis = min(self.pazymiai)\n",
    "        return dickis\n",
    "    \n",
    "    def maizausiaspazymysf(self):\n",
    "        mazius = max(self.pazymiai)\n",
    "        return mazius    \n",
    "    \n",
    "class Abiturientas(Mokinys):\n",
    "    def __init__(self, vardas , pavarde , pazymiai , egzaminas):\n",
    "        super().__init__(vardas , pavarde , pazymiai)\n",
    "        self.egzaminas = egzaminas\n",
    "    def vidurkissuegzaminuf(self):\n",
    "        pazymiaisuegazimu = self.pazymiai + self.egzaminas\n",
    "        # self.pazymiaisuegzaminu = pazymiaisuegazimu\n",
    "        vidurkissuegzaminu = sum(pazymiaisuegazimu) / len(pazymiaisuegazimu)\n",
    "        return vidurkissuegzaminu\n",
    "\n",
    "mokinys = Mokinys(\"Mantvydas\" , \"Vorobjovas\" , [7,8,9,10,7,4,9])\n",
    "abiturientas = Abiturientas(\"Mantvydas\" , \"Vorobjovas\" , [7,8,9,5],[6])\n",
    "    \n",
    "print(\"Vidurkis\", mokinys.vidurkisf())\n",
    "print(\"Didysis pazymys\", mokinys.didziausiaspazymysf())\n",
    "print(\"Maziausias pazymys\", mokinys.maizausiaspazymysf())\n",
    "print(\"Bendras vidurkis\", abiturientas.vidurkissuegzaminuf())"
   ]
  },
  {
   "cell_type": "code",
   "execution_count": 55,
   "metadata": {},
   "outputs": [
    {
     "name": "stdout",
     "output_type": "stream",
     "text": [
      "Tomas,Tomaitis: (7.111111111111111, 10, -5)\n"
     ]
    }
   ],
   "source": [
    "# Atnaujinkite Mokinys klasę taip, kad pažymių sąrašas būtų privatus.\n",
    "# Sukurkite metodus, kurie leistų saugiai pridėti ir gauti pažymius, užtikrinant, kad negalima būtų pridėti netinkamų pažymių\n",
    "# (pvz., neigiamų ar didesnių nei 10).\n",
    "\n",
    "class Mokinys():\n",
    "    def __init__(self, Vardas, Pavarde, pazymiu_sarasas):\n",
    "        self.Vardas = Vardas\n",
    "        self.Pavarde = Pavarde\n",
    "        self.__pazymiu_sarasas= pazymiu_sarasas\n",
    "        self.vid_max_min()\n",
    "\n",
    "    def vid_max_min(self):\n",
    "        vidurkis = sum(self.__pazymiu_sarasas)/len(self.__pazymiu_sarasas)\n",
    "        maximumas = max(self.__pazymiu_sarasas)\n",
    "        mininimumas = min(self.__pazymiu_sarasas)\n",
    "        return (vidurkis, maximumas, mininimumas)\n",
    "    \n",
    "    def getPazymiu_sarasas(self):\n",
    "        return self.__pazymiu_sarasas\n",
    "    \n",
    "    def pridedamasPazymys(self, pazymys1):\n",
    "        if pazymys1 > 0 and pazymys1 < 10:       \n",
    "            self.__pazymiu_sarasas.append(pazymys1)\n",
    "        \n",
    "mokinys1= Mokinys('Tomas', 'Tomaitis', [8,9,10,8,7,10,9,8])\n",
    "mokinys1.pridedamasPazymys(-7)\n",
    "print(f'{mokinys1.Vardas},{mokinys1.Pavarde}: {mokinys1.vid_max_min()}')\n",
    "\n",
    "# parasyti metoda (privatu), kuris patikrintu nurodoma pazymiu sarasa ir pasalintu neigiamsu skaicius ir >10. (nuoroda i metoda tarp 8-9 eiluciu, metodas aprasomas atskirai)"
   ]
  },
  {
   "cell_type": "code",
   "execution_count": 57,
   "metadata": {},
   "outputs": [
    {
     "name": "stdout",
     "output_type": "stream",
     "text": [
      "Tomas,Tomaitis: (8.333333333333334, 10, 6)\n",
      "Tomas,Tomaitis: 8.545454545454545\n"
     ]
    },
    {
     "ename": "TypeError",
     "evalue": "Mokinys.__init__() missing 1 required positional argument: 'pazymiu_sarasas'",
     "output_type": "error",
     "traceback": [
      "\u001b[1;31m---------------------------------------------------------------------------\u001b[0m",
      "\u001b[1;31mTypeError\u001b[0m                                 Traceback (most recent call last)",
      "Cell \u001b[1;32mIn[57], line 14\u001b[0m\n\u001b[0;32m     11\u001b[0m \u001b[38;5;28mprint\u001b[39m(\u001b[38;5;124mf\u001b[39m\u001b[38;5;124m'\u001b[39m\u001b[38;5;132;01m{\u001b[39;00mabiturientas1\u001b[38;5;241m.\u001b[39mVardas\u001b[38;5;132;01m}\u001b[39;00m\u001b[38;5;124m,\u001b[39m\u001b[38;5;132;01m{\u001b[39;00mabiturientas1\u001b[38;5;241m.\u001b[39mPavarde\u001b[38;5;132;01m}\u001b[39;00m\u001b[38;5;124m: \u001b[39m\u001b[38;5;132;01m{\u001b[39;00mabiturientas1\u001b[38;5;241m.\u001b[39mprideti_egz_rez()\u001b[38;5;132;01m}\u001b[39;00m\u001b[38;5;124m'\u001b[39m)\n\u001b[0;32m     13\u001b[0m mokykla \u001b[38;5;241m=\u001b[39m Mokykla()\n\u001b[1;32m---> 14\u001b[0m mokinys3 \u001b[38;5;241m=\u001b[39m \u001b[43mMokinys\u001b[49m\u001b[43m(\u001b[49m\u001b[38;5;124;43m'\u001b[39;49m\u001b[38;5;124;43mVardenis3\u001b[39;49m\u001b[38;5;124;43m'\u001b[39;49m\u001b[43m,\u001b[49m\u001b[43m \u001b[49m\u001b[38;5;124;43m'\u001b[39;49m\u001b[38;5;124;43mPavardenis3\u001b[39;49m\u001b[38;5;124;43m'\u001b[39;49m\u001b[43m)\u001b[49m\n\u001b[0;32m     15\u001b[0m mokykla\u001b[38;5;241m.\u001b[39maddMokinys(mokinys1)\n\u001b[0;32m     16\u001b[0m mokykla\u001b[38;5;241m.\u001b[39maddMokinys(mokinys2)\n",
      "\u001b[1;31mTypeError\u001b[0m: Mokinys.__init__() missing 1 required positional argument: 'pazymiu_sarasas'"
     ]
    }
   ],
   "source": [
    "# Klasės turi būti aprašytos jūsų kuriamame modulyje.\n",
    "# Klases tikrinimui importuokite taip, kad \n",
    "# NEREIKĖTŲ modulio pavadinimo prieš klasę naudoti.\n",
    "\n",
    "from modulis import Mokinys, Abiturientas, Mokykla\n",
    "\n",
    "mokinys1= Mokinys('Tomas', 'Tomaitis', [8,9,10,6,8,7,10,9,8])\n",
    "print(f'{mokinys1.Vardas},{mokinys1.Pavarde}: {mokinys1.vid_max_min()}')\n",
    "\n",
    "abiturientas1 = Abiturientas('Tomas', 'Tomaitis', [8,9,10,6,8,7,10,9,8], [9,10])\n",
    "print(f'{abiturientas1.Vardas},{abiturientas1.Pavarde}: {abiturientas1.prideti_egz_rez()}')\n",
    "\n",
    "mokykla = Mokykla()\n",
    "mokinys3 = Mokinys('Vardenis3', 'Pavardenis3')\n",
    "mokykla.addMokinys(mokinys1)\n",
    "mokykla.addMokinys(mokinys2)\n",
    "mokykla.addMokinys(mokinys3)\n",
    "print(mokykla.VisuMokiniuVidurkis())"
   ]
  },
  {
   "cell_type": "code",
   "execution_count": null,
   "metadata": {},
   "outputs": [],
   "source": []
  }
 ],
 "metadata": {
  "kernelspec": {
   "display_name": "Python 3",
   "language": "python",
   "name": "python3"
  },
  "language_info": {
   "codemirror_mode": {
    "name": "ipython",
    "version": 3
   },
   "file_extension": ".py",
   "mimetype": "text/x-python",
   "name": "python",
   "nbconvert_exporter": "python",
   "pygments_lexer": "ipython3",
   "version": "3.12.2"
  }
 },
 "nbformat": 4,
 "nbformat_minor": 2
}
