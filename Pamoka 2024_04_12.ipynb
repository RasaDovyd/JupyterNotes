{
 "cells": [
  {
   "cell_type": "code",
   "execution_count": null,
   "metadata": {},
   "outputs": [],
   "source": [
    "#Nuskaitykite DUS2014csv ir DUS2018.csv į pandas lenteles\n",
    "\n",
    "# .query(), .value_counts():\n",
    "# Kiek dalyvavo vyrų, moterų apklausoje kiekvienais metais. Suraskite pokytį,\n",
    "# rezultatus išspausdinkite\n",
    "\n",
    "# kiek 2018 metais buvo respondentų iš kiekvienos amžiaus grupės?\n",
    "# Suraskite vidutinius atlyginimus kiekvienai amžiaus grupei (2018 metams)\n",
    "# hint:as for ciklas moka eiti per array vertes, kurias gausite su .index arba .values atributais\n",
    "\n",
    "# Palyginkite, kiek procentais daugiau uždirbo vyrai už moteris 2018 metais?\n",
    "# Kiek procentais vyrai uždirba daugiau, nei bendras atlyginimų vidurkis?\n",
    "# Kiek procentais moterys uždirba mažiau, nei bendras atlyginimų vidurkis?\n",
    "# imkite bdu_spalio"
   ]
  },
  {
   "cell_type": "code",
   "execution_count": 1,
   "metadata": {},
   "outputs": [],
   "source": [
    "import pandas as pd\n",
    "import numpy as np\n",
    "import matplotlib.pyplot as plt"
   ]
  },
  {
   "cell_type": "code",
   "execution_count": 2,
   "metadata": {},
   "outputs": [],
   "source": [
    "dus14 = pd.read_csv('Dus2014.csv')\n",
    "dus18 = pd.read_csv('Dus2018.csv')"
   ]
  },
  {
   "cell_type": "code",
   "execution_count": 4,
   "metadata": {},
   "outputs": [],
   "source": [
    "d14s = dus14[['lytis', 'amzius', 'issilavinimas','bdu_spalio','profesija']]\n",
    "d18s = dus18[['lytis', 'amzius', 'issilavinimas','bdu_spalio','profesija']]"
   ]
  },
  {
   "cell_type": "code",
   "execution_count": 28,
   "metadata": {},
   "outputs": [
    {
     "name": "stdout",
     "output_type": "stream",
     "text": [
      "Apklaustų moterų 2014 ir 2018m. skaičiaus pokytis: \n",
      "-1678\n",
      "Apklaustų vyrų 2014 ir 2018m. skaičiaus pokytis: \n",
      "-110\n"
     ]
    }
   ],
   "source": [
    "# Kiek dalyvavo vyrų, moterų apklausoje kiekvienais metais. Suraskite pokytį,\n",
    "# rezultatus išspausdinkite\n",
    "\n",
    "moterys_2014 = d14s[d14s[\"lytis\"]==\"F\"] \n",
    "vyrai_2014 = d14s[d14s[\"lytis\"]==\"M\"] \n",
    "moteru_sk_2014 = moterys_2014['lytis'].value_counts().values[0] # moterys_2014['lytis'].value_counts().values duoda atsakyma:array([22366], dtype=int64), todel pridedam [0] ir tokiu budu gauname tik skaiciu\n",
    "vyru_sk_2014 = vyrai_2014['lytis'].value_counts().values[0]\n",
    "\n",
    "moterys_2018 = d18s[d18s[\"lytis\"]==\"F\"] \n",
    "vyrai_2018 = d18s[d18s[\"lytis\"]==\"M\"]\n",
    "moteru_sk_2018 = moterys_2018['lytis'].value_counts().values[0]\n",
    "vyru_sk_2018 = vyrai_2018['lytis'].value_counts().values[0]\n",
    "\n",
    "moteru_sk_pokytis = moteru_sk_2018-moteru_sk_2014\n",
    "vyru_sk_pokytis = vyru_sk_2018-vyru_sk_2014\n",
    "\n",
    "\n",
    "print(\"Apklaustų moterų 2014 ir 2018m. skaičiaus pokytis: \", moteru_sk_pokytis, \"Apklaustų vyrų 2014 ir 2018m. skaičiaus pokytis: \", vyru_sk_pokytis, sep = '\\n')"
   ]
  },
  {
   "cell_type": "code",
   "execution_count": 29,
   "metadata": {},
   "outputs": [
    {
     "name": "stdout",
     "output_type": "stream",
     "text": [
      "Apklaustų moterų 2014 ir 2018m. skaičiaus pokytis: \n",
      "-1678\n",
      "Apklaustų vyrų 2014 ir 2018m. skaičiaus pokytis: \n",
      "-110\n"
     ]
    }
   ],
   "source": [
    "# Remigijaus pavyzdys, lengvesnis variantas su query\n",
    "\n",
    "moterys_2014 = d14s.query('lytis == \"F\"')\n",
    "moteru_sk_2014 = moterys_2014['lytis'].value_counts().values[0]\n",
    "vyrai_2014 = d14s.query('lytis == \"M\"')\n",
    "vyru_sk_2014 = vyrai_2014['lytis'].value_counts().values[0]\n",
    "\n",
    "moterys_2018 = d18s.query('lytis == \"F\"')\n",
    "moteru_sk_2018 = moterys_2018['lytis'].value_counts().values[0]\n",
    "vyrai_2018 = d18s.query('lytis == \"M\"')\n",
    "vyru_sk_2018 = vyrai_2018['lytis'].value_counts().values[0]\n",
    "\n",
    "moteru_sk_pokytis = moteru_sk_2018-moteru_sk_2014\n",
    "vyru_sk_pokytis = vyru_sk_2018-vyru_sk_2014\n",
    "\n",
    "print(\"Apklaustų moterų 2014 ir 2018m. skaičiaus pokytis: \", moteru_sk_pokytis, \"Apklaustų vyrų 2014 ir 2018m. skaičiaus pokytis: \", vyru_sk_pokytis, sep = '\\n')"
   ]
  },
  {
   "cell_type": "code",
   "execution_count": 56,
   "metadata": {},
   "outputs": [
    {
     "name": "stdout",
     "output_type": "stream",
     "text": [
      "Amžiaus grupė:  14-29  vidutinis atlyginimas:  865.5633005977796\n",
      "Amžiaus grupė:  30-39  vidutinis atlyginimas:  1088.9557207498383\n",
      "Amžiaus grupė:  40-49  vidutinis atlyginimas:  980.8554293599406\n",
      "Amžiaus grupė:  50-59  vidutinis atlyginimas:  856.0671241050119\n",
      "Amžiaus grupė:  60+  vidutinis atlyginimas:  784.542386341076\n"
     ]
    }
   ],
   "source": [
    "# kiek 2018 metais buvo respondentų iš kiekvienos amžiaus grupės?\n",
    "# Suraskite vidutinius atlyginimus kiekvienai amžiaus grupei (2018 metams)\n",
    "# hint:as for ciklas moka eiti per array vertes, kurias gausite su .index arba .values atributais\n",
    "\n",
    "amzius = d18s['amzius'].value_counts()\n",
    "# 50-59    10056\n",
    "# 40-49     9421\n",
    "# 14-29     9368\n",
    "# 30-39     9282\n",
    "# 60+       5037\n",
    "amzius.head()\n",
    "\n",
    "amz = ['14-29', '30-39', '40-49', '50-59', '60+']\n",
    "\n",
    "for amzius in amz:\n",
    "    grupes = d18s.query('amzius == @ amzius')\n",
    "    vidutinis_atlyginimas = grupes['bdu_spalio'].mean()\n",
    "    print('Amžiaus grupė: ', amzius, ' vidutinis atlyginimas: ',vidutinis_atlyginimas)\n",
    "\n",
    "# amzius_14_29 = d18s.query('amzius == \"14-29\"')\n",
    "# amzius_14_29_vid_atl = amzius_14_29['bdu_spalio'].mean()\n",
    "\n",
    "# amzius_30_39 = d18s.query('amzius == \"30-39\"')\n",
    "# amzius_30_39_vid_atl = amzius_30_39['bdu_spalio'].mean()\n",
    "\n",
    "# amzius_40_49 = d18s.query('amzius == \"40-49\"')\n",
    "# amzius_40_49_vid_atl = amzius_40_49['bdu_spalio'].mean()\n",
    "\n",
    "# amzius_50_59 = d18s.query('amzius == \"50-59\"')\n",
    "# amzius_50_59_vid_atl = amzius_50_59['bdu_spalio'].mean()\n",
    "\n",
    "# amzius_60plius = d18s.query('amzius == \"60+\"')\n",
    "# amzius_60plius_vid_atl = amzius_60plius['bdu_spalio'].mean()\n",
    "\n",
    "# print(\"Vidutinis atlyginimas amziaus grupeje 14-29: \", amzius_14_29_vid_atl, \"Vidutinis atlyginimas amziaus grupeje 30-39: \", amzius_30_39_vid_atl, \"Vidutinis atlyginimas amziaus grupeje 40-49: \", amzius_40_49_vid_atl, \"Vidutinis atlyginimas amziaus grupeje 50-59: \", amzius_50_59_vid_atl, \"Vidutinis atlyginimas amziaus grupeje 60+: \", amzius_60plius_vid_atl, sep='\\n')\n"
   ]
  },
  {
   "cell_type": "code",
   "execution_count": null,
   "metadata": {},
   "outputs": [],
   "source": [
    "# kiek 2018 metais buvo respondentų iš kiekvienos amžiaus grupės?\n",
    "# Suraskite vidutinius atlyginimus kiekvienai amžiaus grupei (2018 metams)\n",
    "# hint:as for ciklas moka eiti per array vertes, kurias gausite su .index arba .values atributais\n",
    "\n"
   ]
  }
 ],
 "metadata": {
  "kernelspec": {
   "display_name": "Python 3",
   "language": "python",
   "name": "python3"
  },
  "language_info": {
   "codemirror_mode": {
    "name": "ipython",
    "version": 3
   },
   "file_extension": ".py",
   "mimetype": "text/x-python",
   "name": "python",
   "nbconvert_exporter": "python",
   "pygments_lexer": "ipython3",
   "version": "3.12.3"
  }
 },
 "nbformat": 4,
 "nbformat_minor": 2
}
