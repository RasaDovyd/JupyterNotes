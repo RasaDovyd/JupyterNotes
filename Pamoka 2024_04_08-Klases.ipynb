{
 "cells": [
  {
   "cell_type": "code",
   "execution_count": null,
   "metadata": {},
   "outputs": [],
   "source": [
    "# KLKASĖS"
   ]
  },
  {
   "cell_type": "code",
   "execution_count": 1,
   "metadata": {},
   "outputs": [
    {
     "name": "stdout",
     "output_type": "stream",
     "text": [
      "<class 'str'>\n",
      "<class 'int'>\n",
      "<class 'list'>\n"
     ]
    }
   ],
   "source": [
    "s = \"tekstas\"\n",
    "sk = 7\n",
    "sar = []\n",
    "print(type(s), type(sk), type(sar), sep = '\\n')"
   ]
  },
  {
   "cell_type": "code",
   "execution_count": 2,
   "metadata": {},
   "outputs": [],
   "source": [
    "class Asmuo():\n",
    "    pass"
   ]
  },
  {
   "cell_type": "code",
   "execution_count": 4,
   "metadata": {},
   "outputs": [
    {
     "name": "stdout",
     "output_type": "stream",
     "text": [
      "<class '__main__.Asmuo'>\n",
      "<class '__main__.Asmuo'>\n"
     ]
    }
   ],
   "source": [
    "a1 = Asmuo() # norint pasinaudoti klase, reikia parasyti priskyrimo sakini\n",
    "a2 = Asmuo()\n",
    "print(type(a1), type(a2), sep = '\\n')\n",
    "# ___main___-  reiskia, kad klases aprasas egzistuoja sitame faile, o ne importuotoje bibliotekoje."
   ]
  },
  {
   "cell_type": "code",
   "execution_count": 23,
   "metadata": {},
   "outputs": [],
   "source": [
    "Name = \"Petriukas\"\n",
    "class Asmuo(): # klase su aprasu\n",
    "    def __init__(self): # zodis self Pitonui rodo, kad funkcija priklauso klasei, self bus visose klasese ir visuose metoduose\n",
    "        print(\"As katik atsiradau\")\n",
    "        self.Name = 'Jonukas' # aprasytas klases atributas/kintamasis(esantis klases viduje)\n",
    "        pass\n",
    "# i funkcija kreipiamasi automatiskai kai sukuriama klase\n",
    "\n",
    "    def printName(self): # metodas yra funkcija patalpinta klases viduje\n",
    "        print(\"Mano vardas yra Petriukas\")\n",
    "    \n",
    "    def printName(self):\n",
    "        print(Name)\n",
    "        print(self.Name)"
   ]
  },
  {
   "cell_type": "code",
   "execution_count": 21,
   "metadata": {},
   "outputs": [
    {
     "name": "stdout",
     "output_type": "stream",
     "text": [
      "As katik atsiradau\n",
      "As katik atsiradau\n",
      "<class '__main__.Asmuo'>\n",
      "<class '__main__.Asmuo'>\n"
     ]
    }
   ],
   "source": [
    "a1 = Asmuo() # norint pasinaudoti klase, reikia parasyti priskyrimo sakini\n",
    "a2 = Asmuo()\n",
    "print(type(a1), type(a2), sep = '\\n')"
   ]
  },
  {
   "cell_type": "code",
   "execution_count": 24,
   "metadata": {},
   "outputs": [
    {
     "name": "stdout",
     "output_type": "stream",
     "text": [
      "Petriukas\n",
      "Jonukas\n"
     ]
    }
   ],
   "source": [
    "a1.printName() # kreikiames i auksciau aprasyta klase"
   ]
  },
  {
   "cell_type": "code",
   "execution_count": 25,
   "metadata": {},
   "outputs": [],
   "source": [
    "Name = \"Petriukas\"\n",
    "class Asmuo():\n",
    "    def __init__(self, name):\n",
    "        self.Name = name\n",
    "        pass\n",
    "  \n",
    "    def printName(self):\n",
    "        print(self.Name)"
   ]
  },
  {
   "cell_type": "code",
   "execution_count": 27,
   "metadata": {},
   "outputs": [
    {
     "name": "stdout",
     "output_type": "stream",
     "text": [
      "<class '__main__.Asmuo'>\n",
      "<class '__main__.Asmuo'>\n"
     ]
    }
   ],
   "source": [
    "a1 = Asmuo('Jonukas') # norint pasinaudoti klase, reikia parasyti priskyrimo sakini\n",
    "a2 = Asmuo('Petriukas')\n",
    "print(type(a1), type(a2), sep = '\\n')"
   ]
  },
  {
   "cell_type": "code",
   "execution_count": 30,
   "metadata": {},
   "outputs": [
    {
     "name": "stdout",
     "output_type": "stream",
     "text": [
      "Jonukas\n",
      "Petriukas\n"
     ]
    }
   ],
   "source": [
    "a1.printName() # kreikiames i auksciau aprasyta klase\n",
    "a2.printName()"
   ]
  },
  {
   "cell_type": "code",
   "execution_count": 31,
   "metadata": {},
   "outputs": [
    {
     "name": "stdout",
     "output_type": "stream",
     "text": [
      "Onutė\n"
     ]
    }
   ],
   "source": [
    "a3 = Asmuo('Onutė')\n",
    "a3.printName()"
   ]
  },
  {
   "cell_type": "code",
   "execution_count": 42,
   "metadata": {},
   "outputs": [],
   "source": [
    "Name = \"Petriukas\"\n",
    "class Asmuo():\n",
    "    def __init__(self, name):\n",
    "        self.Name = name\n",
    "        pass\n",
    "  \n",
    "    def getName(self):\n",
    "        return self.Name\n",
    "\n",
    "    def setName(self, new_name):\n",
    "        self.Name = new_name"
   ]
  },
  {
   "cell_type": "code",
   "execution_count": 43,
   "metadata": {},
   "outputs": [
    {
     "name": "stdout",
     "output_type": "stream",
     "text": [
      "<class '__main__.Asmuo'>\n",
      "<class '__main__.Asmuo'>\n"
     ]
    }
   ],
   "source": [
    "a1 = Asmuo('Jonukas') # norint pasinaudoti klase, reikia parasyti priskyrimo sakini\n",
    "a2 = Asmuo('Petriukas')\n",
    "print(type(a1), type(a2), sep = '\\n')"
   ]
  },
  {
   "cell_type": "code",
   "execution_count": 36,
   "metadata": {},
   "outputs": [],
   "source": [
    "a1.Name = 'Marytė'"
   ]
  },
  {
   "cell_type": "code",
   "execution_count": 38,
   "metadata": {},
   "outputs": [
    {
     "name": "stdout",
     "output_type": "stream",
     "text": [
      "Marytė\n"
     ]
    }
   ],
   "source": [
    "print(a1.Name)"
   ]
  },
  {
   "cell_type": "code",
   "execution_count": 44,
   "metadata": {},
   "outputs": [
    {
     "name": "stdout",
     "output_type": "stream",
     "text": [
      "Jonukas\n"
     ]
    }
   ],
   "source": [
    "ats = a1.getName() # kreikiames i auksciau aprasyta klase\n",
    "print(ats)"
   ]
  },
  {
   "cell_type": "code",
   "execution_count": 45,
   "metadata": {},
   "outputs": [
    {
     "name": "stdout",
     "output_type": "stream",
     "text": [
      "Jonukas\n",
      "Vardenis\n"
     ]
    }
   ],
   "source": [
    "print(a1.getName())\n",
    "a1.setName('Vardenis')\n",
    "print(a1.getName())"
   ]
  },
  {
   "cell_type": "code",
   "execution_count": 46,
   "metadata": {},
   "outputs": [],
   "source": [
    "Name = \"Petriukas\"\n",
    "class Asmuo():\n",
    "    def __init__(self, name, gm):\n",
    "        self.Name = name\n",
    "        self.BYear = gm\n",
    "        self.Age = 2024- self.BYear\n",
    "        pass\n",
    "  \n",
    "    def getName(self):\n",
    "        return self.Name\n",
    "\n",
    "    def setName(self, new_name):\n",
    "        self.Name = new_name"
   ]
  },
  {
   "cell_type": "code",
   "execution_count": 49,
   "metadata": {},
   "outputs": [
    {
     "name": "stdout",
     "output_type": "stream",
     "text": [
      "28 Vardenis\n"
     ]
    }
   ],
   "source": [
    "a1 = Asmuo(\"Vardenis\", 1996)\n",
    "print(a1.Age, a1.getName())"
   ]
  },
  {
   "cell_type": "code",
   "execution_count": 72,
   "metadata": {},
   "outputs": [],
   "source": [
    "def calculateAge():\n",
    "    return \"Cha !!!\"\n",
    "\n",
    "class Asmuo():\n",
    "    def __init__(self, name, gm):\n",
    "        self.Name = name\n",
    "        self.BYear = gm\n",
    "        self.Age = self.calculateAge() #kadangi cia nera zodelio self., i sia funkcija nesikreipiama, kreipiamasi i 1 eilutes funkcija.\n",
    "        pass\n",
    "  \n",
    "    def getName(self):\n",
    "        return self.Name\n",
    "\n",
    "    def setName(self, new_name):\n",
    "        self.Name = new_name\n",
    "\n",
    "    def calculateAge(self):\n",
    "        return 2024-self.BYear"
   ]
  },
  {
   "cell_type": "code",
   "execution_count": 73,
   "metadata": {},
   "outputs": [
    {
     "name": "stdout",
     "output_type": "stream",
     "text": [
      "28 Vardenis\n"
     ]
    }
   ],
   "source": [
    "a1 = Asmuo(\"Vardenis\", 1996)\n",
    "print(a1.Age, a1.getName())"
   ]
  },
  {
   "cell_type": "code",
   "execution_count": 77,
   "metadata": {},
   "outputs": [],
   "source": [
    "# PAVELDĖJIMAS\n",
    "# trumpam prireikus, kad klase turetu kitoki metoda, naudojamas klasiu paveldejimas\n",
    "\n",
    "class Studentas(Asmuo): # tevines klases pavadinimas (Asmuo)\n",
    "    def getStatus(self):\n",
    "        return \"Studentas\""
   ]
  },
  {
   "cell_type": "code",
   "execution_count": 78,
   "metadata": {},
   "outputs": [],
   "source": [
    "std1 = Studentas('Unė', 1992)"
   ]
  },
  {
   "cell_type": "code",
   "execution_count": 79,
   "metadata": {},
   "outputs": [
    {
     "name": "stdout",
     "output_type": "stream",
     "text": [
      "32 Unė\n"
     ]
    }
   ],
   "source": [
    "print(std1.Age, std1.getName())"
   ]
  },
  {
   "cell_type": "code",
   "execution_count": 80,
   "metadata": {},
   "outputs": [
    {
     "data": {
      "text/plain": [
       "'Studentas'"
      ]
     },
     "execution_count": 80,
     "metadata": {},
     "output_type": "execute_result"
    }
   ],
   "source": [
    "std1.getStatus()"
   ]
  },
  {
   "cell_type": "code",
   "execution_count": 89,
   "metadata": {},
   "outputs": [],
   "source": [
    "# SUDETINGESNIS PAVELDEJIMO ATVEJIS\n",
    "\n",
    "class Studentas(Asmuo):\n",
    "    def __init__(self, name, gm):\n",
    "        super().__init__(name, gm)\n",
    "        self.Enroll = True\n",
    "        \n",
    "std1 = Studentas('Une', 1996)"
   ]
  },
  {
   "cell_type": "code",
   "execution_count": 93,
   "metadata": {},
   "outputs": [
    {
     "name": "stdout",
     "output_type": "stream",
     "text": [
      "28 True\n"
     ]
    }
   ],
   "source": [
    "print(std1.Age, std1.Enroll)"
   ]
  },
  {
   "cell_type": "code",
   "execution_count": 142,
   "metadata": {},
   "outputs": [],
   "source": [
    "# aprašykite klasę Kvadratas\n",
    "# kreipiantis į klasę, reikia nurodyti kvadrato ilgį a.\n",
    "# Klasė turi turėti atributą Plotas, kurį \n",
    "# turi apskaičiuoti klasės kūrimo metu.\n",
    "# Plotas = a*a\n",
    "# parašykite metodą, kuris grąžintų apskaičiuoto Plotas atributo reikšmę."
   ]
  },
  {
   "cell_type": "code",
   "execution_count": 143,
   "metadata": {},
   "outputs": [
    {
     "name": "stdout",
     "output_type": "stream",
     "text": [
      "196\n"
     ]
    }
   ],
   "source": [
    "class Kvadratas():\n",
    "    def __init__(self ,a): #aprasome kintamuosius\n",
    "        self.Plotas = a*a\n",
    "    def plotas(self):      # aprasome funkcija\n",
    "        return self.Plotas\n",
    "kvadratu = Kvadratas(a=14) # issikvieciam klase\n",
    "print(kvadratu.plotas())  # issikvieciam funkcija"
   ]
  },
  {
   "cell_type": "code",
   "execution_count": 153,
   "metadata": {},
   "outputs": [
    {
     "name": "stdout",
     "output_type": "stream",
     "text": [
      "50\n",
      "30\n"
     ]
    }
   ],
   "source": [
    "# aprašykite klasę Rectangle\n",
    "# kreipiantis į klasę, reikia nurodyti stačiakampio\n",
    "# kraštines a ir b.\n",
    "# Realizuokite atributą Plotas = a*b\n",
    "# ir metodą, grąžinantį Ploto reikšmę\n",
    "# Taip pat pridėkite metodą, apskaičiuojantį ir grąžinantį\n",
    "# perimetrą P=2(a+b)\n",
    "\n",
    "class Rectangle():\n",
    "    def __init__(self, a, b): #aprasome kintamuosius\n",
    "        self.Plotas = a * b\n",
    "        self.Perimetras = 2*(a + b)\n",
    "\n",
    "    def plotas(self):      # aprasome funkcija\n",
    "        return self.Plotas\n",
    "\n",
    "    def perimetras(self):      # aprasome funkcija\n",
    "        return self.Perimetras\n",
    "\n",
    "figura = Rectangle(a=10, b=5) # issikvieciam klase\n",
    "print(figura.plotas(), figura.perimetras(), sep = '\\n')  # issikvieciam funkcija\n"
   ]
  },
  {
   "cell_type": "code",
   "execution_count": 157,
   "metadata": {},
   "outputs": [
    {
     "name": "stdout",
     "output_type": "stream",
     "text": [
      "1000\n",
      "600\n"
     ]
    }
   ],
   "source": [
    "# kubas\n",
    "\n",
    "class Kubas():\n",
    "    def __init__(self, a): #aprasome kintamuosius\n",
    "        self.Turis = a ** 3\n",
    "        self.Plotas = 6 * (a**2)\n",
    "\n",
    "    def turis(self):      # aprasome funkcija\n",
    "        return self.Turis\n",
    "    def plotas(self):      # aprasome funkcija\n",
    "        return self.Plotas\n",
    "\n",
    "figura = Kubas(a=10) # issikvieciam klase\n",
    "print(figura.turis(), figura.plotas(), sep='\\n')  # issikvieciam funkcija"
   ]
  },
  {
   "cell_type": "code",
   "execution_count": 182,
   "metadata": {},
   "outputs": [
    {
     "name": "stdout",
     "output_type": "stream",
     "text": [
      "c:\\Users\\Dovydaiciai\\Documents\\Python mokymai\\Python\\Git\\JupyterNotes\n"
     ]
    }
   ],
   "source": [
    "where = os.getcwd()\n",
    "print(where)"
   ]
  },
  {
   "cell_type": "code",
   "execution_count": 190,
   "metadata": {},
   "outputs": [
    {
     "name": "stdout",
     "output_type": "stream",
     "text": [
      "Galbūt per daug ir per ilgai mes kariavom,\n",
      "Galbūt per ilgai kartojom žodį \"šlovė\" (jė-jė, jė-jė)\n",
      "Gal kartais per daug iš kitų reikalavom\n",
      "Ir kartais per tyliai mes norėjom nugalėt.\n"
     ]
    }
   ],
   "source": [
    "#susikurkite su Notepadu tekstinį failą su bet kokiu tekstu\n",
    "#parašykite klasę TxtReader, kuriai kreipimosi metu būtų nurodomas tekstinio failo pavadinimas;\n",
    "#klasės sukūrimo metu tas tekstinis failas turi būti nuskaitomas\n",
    "#ir nuskaitytas tekstas turi būti priskirtas atributui Text\n",
    "#parašykite metodą getText(), kuri grąžintų atributo text reikšmę\n",
    "\n",
    "class TxtReader():\n",
    "    def __init__(self, file_name):\n",
    "        self.file_name = file_name\n",
    "        file = open(fname, mode='r', encoding= 'utf-8')\n",
    "        self.Text = file.read()\n",
    "        file.close()\n",
    "    def getText(self):\n",
    "        return self.Text\n",
    "Tekstas=TxtReader('Tekstas 04_08')\n",
    "print(Tekstas.getText())"
   ]
  },
  {
   "cell_type": "code",
   "execution_count": 193,
   "metadata": {},
   "outputs": [
    {
     "name": "stdout",
     "output_type": "stream",
     "text": [
      "Turis:\n",
      "4186.666666666667\n",
      "Plotas:\n",
      "1256.0\n"
     ]
    }
   ],
   "source": [
    "#Sukurkite klasę Rutulys\n",
    "#kuriai galėtumėte nurodyti Rutulio spindulį r.\n",
    "#Sukurkite metodus, skirtus rasti jo Tūriui ir paviršiaus plotui;\n",
    "#Taip pat metodą, kuriuo jūs pakeistumėte spindulio r reikšmę.\n",
    "\n",
    "class Rutulys():\n",
    "    def __init__(self, r): #aprasome kintamuosius\n",
    "        self.Turis = (3.14*(r**3))*4/3\n",
    "        self.Plotas = 4*(3.14*(r**2))\n",
    "\n",
    "    def turis(self):      # aprasome funkcija\n",
    "        return self.Turis\n",
    "\n",
    "    def plotas(self):      # aprasome funkcija\n",
    "        return self.Plotas\n",
    "\n",
    "figura = Rutulys(r = 10) # issikvieciam klase\n",
    "print(\"Turis:\", figura.turis(), \"Plotas:\", figura.plotas(), sep = '\\n')  # issikvieciam funkcija\n"
   ]
  },
  {
   "cell_type": "code",
   "execution_count": 225,
   "metadata": {},
   "outputs": [
    {
     "name": "stdout",
     "output_type": "stream",
     "text": [
      "314.0\n",
      "523.3333333333334\n",
      "1256.0\n",
      "4186.666666666667\n"
     ]
    }
   ],
   "source": [
    "# Editos pvz. klaseje. Kai spinduli reiki ivesti po klausimo, su vartotojo ivestnimi\n",
    "class Rutulys():\n",
    "    def __init__ (self, r):\n",
    "        self.r = r\n",
    "           \n",
    "    def getPav_Plotas(self):\n",
    "        Pav_Plotas = 4*3.14*self.r**2\n",
    "        return Pav_Plotas\n",
    "\n",
    "    def getTūris(self):\n",
    "        Tūris = 4/3*3.14*self.r**3\n",
    "        return Tūris\n",
    "    \n",
    "    def changer(self, new_r): #metodas skirtas spindulio keitimui\n",
    "        self.r = new_r\n",
    "        \n",
    "r = int(input(\"Įveskite spindulį r\"))\n",
    "rutulys  = Rutulys(r)\n",
    "print(rutulys.getPav_Plotas())\n",
    "print(rutulys.getTūris())\n",
    "\n",
    "r = int(input(\"Įveskite spindulį r\"))\n",
    "rutulys.changer(r)\n",
    "print(rutulys.getPav_Plotas())\n",
    "print(rutulys.getTūris())"
   ]
  },
  {
   "cell_type": "code",
   "execution_count": 226,
   "metadata": {},
   "outputs": [
    {
     "name": "stdout",
     "output_type": "stream",
     "text": [
      "Plotas:  78.5\n",
      "Perimetras:  31.400000000000002\n",
      "Plotas:  153.86\n",
      "Perimetras:  43.96\n"
     ]
    }
   ],
   "source": [
    "# Parašykite klasę Apskritimas, kuriai glite nurodyti apskritimo spindulį r.\n",
    "# Erealizuokite du metodus getS ir getP, plotui ir perimetrui gražinti.\n",
    "# taip pat pridėkite metodą, skirtą spindulio keitimui \n",
    "# P=2*pi*r\n",
    "# S=pi*r^2\n",
    "\n",
    "class Apskritimas():\n",
    "    def __init__ (self, r):\n",
    "        self.r = r\n",
    "           \n",
    "    def getS(self):\n",
    "        Plotas = 3.14*r**2\n",
    "        return Plotas\n",
    "\n",
    "    def getP(self):\n",
    "        Perimetras = 2*3.14*r\n",
    "        return Perimetras\n",
    "    \n",
    "    def changer(self, naujas_r):\n",
    "        self.r = naujas_r\n",
    "        \n",
    "r = int(input(\"Įveskite spindulį r: \"))\n",
    "apskritimas  = Apskritimas(r)\n",
    "print(\"Plotas: \", apskritimas.getS())\n",
    "print(\"Perimetras: \",apskritimas.getP())\n",
    "\n",
    "r = int(input(\"Įveskite spindulį r: \"))\n",
    "apskritimas  = Apskritimas(r)\n",
    "print(\"Plotas: \", apskritimas.getS())\n",
    "print(\"Perimetras: \",apskritimas.getP())"
   ]
  },
  {
   "cell_type": "code",
   "execution_count": 228,
   "metadata": {},
   "outputs": [
    {
     "name": "stdout",
     "output_type": "stream",
     "text": [
      "157.0\n",
      "31.400000000000002\n",
      "628.0\n",
      "62.800000000000004\n"
     ]
    }
   ],
   "source": [
    "#advanced Apskritimas:\n",
    "#padarykite taip, jog klasė Apskritimas turėtų atributus S ir P, plotui ir perimetrui, ir kad atnaujinus spindulį r, automatiškai pasikeistų S ir P atributų reikšmės, o getS, getP metodai, kaip ir anksčiau grąžintų S ir P atributų reikšmes.\n",
    "\n",
    "#Remigijaus sprendimas\n",
    "class Apskritimas():\n",
    "    def __init__(self, r):\n",
    "        self.r = r\n",
    "        self.S = 2*3.14*r**2\n",
    "        self.P = 2*3.14*r\n",
    "        \n",
    "    def getS(self):\n",
    "        return self.S\n",
    "    \n",
    "    def getP (self):\n",
    "        return self.P\n",
    "    \n",
    "    def change (self, new_r):\n",
    "        self.r = new_r\n",
    "        self.S = 2*3.14*new_r**2\n",
    "        self.P = 2*3.14*new_r\n",
    "    \n",
    "aps = Apskritimas(5)\n",
    "print(aps.getS())\n",
    "print(aps.getP())\n",
    "aps.change(10)\n",
    "print(aps.getS())\n",
    "print(aps.getP())"
   ]
  },
  {
   "cell_type": "code",
   "execution_count": 229,
   "metadata": {},
   "outputs": [
    {
     "name": "stdout",
     "output_type": "stream",
     "text": [
      "31.400000000000002 78.5\n",
      "62.800000000000004 314.0\n"
     ]
    }
   ],
   "source": [
    "# Destytojo varianatas\n",
    "\n",
    "class Apskritimas():\n",
    "    def __init__(self, r):\n",
    "        self.R = r\n",
    "        self.S = 0\n",
    "        self.P = 0\n",
    "        self.upadeAll()\n",
    "    \n",
    "    def getP(self):\n",
    "        return self.P\n",
    "    \n",
    "    def getS(self):\n",
    "        return self.S\n",
    "    \n",
    "    def upadeAll(self):\n",
    "        self.S = 3.14*self.R**2\n",
    "        self.P = 2*3.14*self.R\n",
    "        \n",
    "    def change(self, new_r):\n",
    "        self.R = new_r\n",
    "        self.upadeAll()\n",
    "\n",
    "a = Apskritimas(5)\n",
    "print(a.getP(), a.getS())\n",
    "a.change(10)\n",
    "print(a.getP(), a.getS())"
   ]
  },
  {
   "cell_type": "code",
   "execution_count": 244,
   "metadata": {},
   "outputs": [
    {
     "name": "stdout",
     "output_type": "stream",
     "text": [
      "Plotas: \n",
      "50\n",
      "Perimetras: \n",
      "30\n",
      "Piramides turis:  10.0\n",
      "Kubo turis:  30\n"
     ]
    }
   ],
   "source": [
    "#užduotis su paveldjimu:\n",
    "#parašykite klasę Rectangle, kurioje būtų ilgio ir pločio atributai, bei du metodai - getS - plotui ir getP -perimetrui rasti\n",
    "#Sukurkite išvestinę (child) klasę Kubas, kuri papildomai turėtų Tūrio skaičiavimo metodą\n",
    "#• Klasę Piramidė - išvestinė klasė (child class). Pridėkite\n",
    "# papildomą funkcionalumą - metodą, argumentus piramidės\n",
    "# tūrio skaičiavimui.\n",
    "class Rectangle():\n",
    "    def __init__(self, a, b): \n",
    "        self.S = a * b\n",
    "        self.P = 2*(a + b)\n",
    "\n",
    "    def getP(self):      \n",
    "        return self.P\n",
    "\n",
    "    def getS(self):      \n",
    "        return self.S\n",
    "figura = Rectangle(a=10, b=5)\n",
    "print(\"Plotas: \", figura.getS(), \"Perimetras: \",figura.getP(), sep = '\\n')\n",
    "\n",
    "class Piramide(Rectangle):\n",
    "    def __init__ (self, a, b, h):\n",
    "        super().__init__(a, b) # cia atkeliavo is Rectangle funkcijos, 9 eilute\n",
    "        self.h = h\n",
    "    def get_piramides_turis(self):\n",
    "        Turis = 1/3*self.S*self.h\n",
    "        return Turis\n",
    "figura = Piramide(a= 2, b=3, h=5)\n",
    "print(\"Piramides turis: \", figura.get_piramides_turis())\n",
    "\n",
    "class Kubas(Rectangle):\n",
    "    def __init__ (self, a, b, h):\n",
    "        super().__init__(a, b) # cia atkeliavo is Rectangle funkcijos, 9 eilute\n",
    "        self.a = h\n",
    "    def getKubo_turis(self):\n",
    "        Turis = self.S*self.a\n",
    "        return Turis\n",
    "figura = Kubas(a= 2, b=5, h= 3)\n",
    "print(\"Kubo turis: \", figura.getKubo_turis())"
   ]
  },
  {
   "cell_type": "code",
   "execution_count": 1,
   "metadata": {},
   "outputs": [
    {
     "ename": "SyntaxError",
     "evalue": "invalid syntax. Perhaps you forgot a comma? (2063282826.py, line 52)",
     "output_type": "error",
     "traceback": [
      "\u001b[1;36m  Cell \u001b[1;32mIn[1], line 52\u001b[1;36m\u001b[0m\n\u001b[1;33m    print(\"x sąrašo maksimali reikšmė: \", sarasai.kmaksimali(x) \"y sąrašo maksimali reikšmė: \", sarasai.kmaksimali(y), \"z sąrašo maksimali reikšmė: \", sarasai.kmaksimali(z), sep='\\n')\u001b[0m\n\u001b[1;37m                                          ^\u001b[0m\n\u001b[1;31mSyntaxError\u001b[0m\u001b[1;31m:\u001b[0m invalid syntax. Perhaps you forgot a comma?\n"
     ]
    }
   ],
   "source": [
    "# Namu darbas\n",
    "# parašykite klasę TxtAnalyzer, kuriai kreipimosi metu galima būtų nurodyti failo pavadinimą ir stulpelių skirtuką.\n",
    "# klasė sukūrimo metu turi nuskaityti failą, stulpelius skaičių suskirstyti į sąrašus ir juos priskirti atributams X, Y ir Z.\n",
    "# Realizuokite metodus, kurie grąžintų X, Y, Z sąrašų vidurkius, minimalias ir maksimalias vertes. Pythone yra min, max, sum funkcijos;\n",
    "\n",
    "# class TxtReader():\n",
    "#     def __init__(self, file_name):\n",
    "#         self.file_name = file_name\n",
    "#         file = open(fname, mode='r', encoding= 'utf-8')\n",
    "#         self.Text = file.read()\n",
    "#         file.close()\n",
    "#     def getText(self):\n",
    "#         return self.Text\n",
    "# Tekstas=TxtReader('Tekstas 04_08')\n",
    "# print(Tekstas.getText())\n",
    "\n",
    "class TxtAnalyzer():\n",
    "    def __init__(self, file_name, skirtukas):\n",
    "        self.file_name = file_name\n",
    "        file = open(fname, mode='r', encoding= 'utf-8')\n",
    "        self.Text = file.readlines\n",
    "        file.close()\n",
    "        print(self.Text)\n",
    "    def getText(self):\n",
    "        return self.Text\n",
    "        x = []\n",
    "        y = []\n",
    "        z = []\n",
    "        for eilute in self.Text:\n",
    "            x.append(float(eilute.split(skirtukas)[0]))\n",
    "            y.append(float(eilute.split(skirtukas)[1]))           \n",
    "            z.append(float(eilute.split(skirtukas)[2]))\n",
    "        print(x, y, z, sep= '\\n')\n",
    "    def vidurkis(self):\n",
    "        return (sum(x)/len(x))\n",
    "        return (sum(y)/len(y))\n",
    "        return (sum(z)/len(z))\n",
    "    def minimali(self):\n",
    "        return (min(x))\n",
    "        return (min(y))\n",
    "        return (min(z))\n",
    "    def maksimali(self):\n",
    "        return (max(x))\n",
    "        return (max(y))\n",
    "        return (max(z))\n",
    "\n",
    "fileName = input(\"Įveskite failo pavadinimą: \")\n",
    "skirtukas = input(\"Įveskite skirtuką: \")\n",
    "sarasai  = TxtAnalyzer(\"fileName\", \"skirtukas\")\n",
    "print(\"x sąrašo vidurkis: \", sarasai.vidurkis(x), \"y sąrašo vidurkis: \", sarasai.vidurkis(y),  \"z sąrašo vidurkis: \", sarasai.vidurkis(z), sep='\\n')\n",
    "print(\"x sąrašo minimali reikšmė: \", sarasai.minimali(x), \"y sąrašo minimali reikšmė: \", sarasai.minimali(y), \"z sąrašo minimali reikšmė: \", sarasai.minimali(z), sep='\\n')\n",
    "print(\"x sąrašo maksimali reikšmė: \", sarasai.kmaksimali(x) \"y sąrašo maksimali reikšmė: \", sarasai.kmaksimali(y), \"z sąrašo maksimali reikšmė: \", sarasai.kmaksimali(z), sep='\\n')"
   ]
  },
  {
   "cell_type": "code",
   "execution_count": 22,
   "metadata": {},
   "outputs": [
    {
     "name": "stdout",
     "output_type": "stream",
     "text": [
      "['39;0.048;1.8715\\n', '84;0.1145;9.6147\\n', '76;0.4346;33.0313\\n', '77;0.8089;62.2819\\n', '68;0.7576;51.5189\\n', '53;0.7446;39.4635\\n', '54;0.0032;0.1752\\n', '83;0.5324;44.1857\\n', '67;0.4581;30.6901\\n', '29;0.8602;24.9462\\n', '4;0.1515;0.6059\\n', '57;0.9934;56.6236\\n', '66;0.9814;64.7716\\n', '98;0.277;27.1438\\n', '40;0.2994;11.9754\\n', '3;0.8462;2.5385\\n', '91;0.5664;51.546\\n', '34;0.2509;8.5319\\n', '26;0.0214;0.5552\\n', '98;0.7623;74.7067\\n', '96;0.0103;0.9913\\n', '43;0.2996;12.8811\\n', '41;0.1734;7.1095\\n', '3;0.0283;0.085\\n', '8;0.8557;6.8457\\n', '29;0.6311;18.3031\\n', '10;0.8756;8.7561\\n', '51;0.5378;27.4267\\n', '13;0.5103;6.6341\\n', '71;0.8967;63.6689\\n', '20;0.1997;3.994\\n', '49;0.8467;41.4869\\n', '79;0.3329;26.2955\\n', '70;0.6143;43.0031\\n', '41;0.095;3.8959\\n', '10;0.8894;8.8937\\n', '66;0.7153;47.2087\\n', '37;0.8225;30.4338\\n', '94;0.5848;54.9673\\n', '69;0.3615;24.9437\\n', '51;0.8437;43.0305\\n', '42;0.6106;25.6462\\n', '94;0.3708;34.8512\\n', '20;0.2923;5.8462\\n', '30;0.0542;1.6257\\n', '2;0.2979;0.5959\\n', '36;0.522;18.791\\n', '61;0.6951;42.3986\\n', '10;0.5852;5.8524\\n', '53;0.9488;50.2853\\n', '52;0.954;49.6075\\n', '0;0.2399;0.0\\n', '98;0.9167;89.8343\\n', '52;0.2661;13.8372\\n', '29;0.4201;12.1832\\n', '15;0.2142;3.2132\\n', '74;0.5153;38.1306\\n', '68;0.8021;54.5413\\n', '31;0.2913;9.0288\\n', '74;0.7231;53.5082\\n', '46;0.5456;25.0975\\n', '71;0.2649;18.8076\\n', '81;0.4188;33.9215\\n', '78;0.2451;19.1215\\n', '70;0.0005;0.0348\\n', '28;0.4722;13.2217\\n', '29;0.3837;11.1271\\n', '78;0.2781;21.6927\\n', '91;0.4483;40.7946\\n', '79;0.1457;11.5113\\n', '71;0.2808;19.9394\\n', '3;0.5681;1.7042\\n', '90;0.1186;10.6781\\n', '10;0.1015;1.0154\\n', '32;0.1604;5.1322\\n', '75;0.529;39.6713\\n', '23;0.3448;7.9293\\n', '94;0.8927;83.9105\\n', '85;0.1068;9.0794\\n', '80;0.2379;19.0347\\n', '75;0.7599;56.9927\\n', '51;0.5974;30.4651\\n', '67;0.0793;5.3142\\n', '73;0.8728;63.7162\\n', '55;0.6736;37.0465\\n', '59;0.7756;45.7579\\n', '52;0.5265;27.376\\n', '70;0.2632;18.4221\\n', '86;0.5622;48.3471\\n', '5;0.6316;3.158\\n', '12;0.2371;2.8454\\n', '66;0.4242;27.9993\\n', '80;0.8997;71.9737\\n', '12;0.0318;0.3816\\n', '8;0.0555;0.4444\\n', '28;0.4909;13.745\\n', '41;0.3599;14.7563\\n', '55;0.0871;4.793\\n', '86;0.1718;14.7769\\n', '11;0.5019;5.5214']\n",
      "[39.0, 84.0, 76.0, 77.0, 68.0, 53.0, 54.0, 83.0, 67.0, 29.0, 4.0, 57.0, 66.0, 98.0, 40.0, 3.0, 91.0, 34.0, 26.0, 98.0, 96.0, 43.0, 41.0, 3.0, 8.0, 29.0, 10.0, 51.0, 13.0, 71.0, 20.0, 49.0, 79.0, 70.0, 41.0, 10.0, 66.0, 37.0, 94.0, 69.0, 51.0, 42.0, 94.0, 20.0, 30.0, 2.0, 36.0, 61.0, 10.0, 53.0, 52.0, 0.0, 98.0, 52.0, 29.0, 15.0, 74.0, 68.0, 31.0, 74.0, 46.0, 71.0, 81.0, 78.0, 70.0, 28.0, 29.0, 78.0, 91.0, 79.0, 71.0, 3.0, 90.0, 10.0, 32.0, 75.0, 23.0, 94.0, 85.0, 80.0, 75.0, 51.0, 67.0, 73.0, 55.0, 59.0, 52.0, 70.0, 86.0, 5.0, 12.0, 66.0, 80.0, 12.0, 8.0, 28.0, 41.0, 55.0, 86.0, 11.0]\n",
      "[0.048, 0.1145, 0.4346, 0.8089, 0.7576, 0.7446, 0.0032, 0.5324, 0.4581, 0.8602, 0.1515, 0.9934, 0.9814, 0.277, 0.2994, 0.8462, 0.5664, 0.2509, 0.0214, 0.7623, 0.0103, 0.2996, 0.1734, 0.0283, 0.8557, 0.6311, 0.8756, 0.5378, 0.5103, 0.8967, 0.1997, 0.8467, 0.3329, 0.6143, 0.095, 0.8894, 0.7153, 0.8225, 0.5848, 0.3615, 0.8437, 0.6106, 0.3708, 0.2923, 0.0542, 0.2979, 0.522, 0.6951, 0.5852, 0.9488, 0.954, 0.2399, 0.9167, 0.2661, 0.4201, 0.2142, 0.5153, 0.8021, 0.2913, 0.7231, 0.5456, 0.2649, 0.4188, 0.2451, 0.0005, 0.4722, 0.3837, 0.2781, 0.4483, 0.1457, 0.2808, 0.5681, 0.1186, 0.1015, 0.1604, 0.529, 0.3448, 0.8927, 0.1068, 0.2379, 0.7599, 0.5974, 0.0793, 0.8728, 0.6736, 0.7756, 0.5265, 0.2632, 0.5622, 0.6316, 0.2371, 0.4242, 0.8997, 0.0318, 0.0555, 0.4909, 0.3599, 0.0871, 0.1718, 0.5019]\n",
      "[1.8715, 9.6147, 33.0313, 62.2819, 51.5189, 39.4635, 0.1752, 44.1857, 30.6901, 24.9462, 0.6059, 56.6236, 64.7716, 27.1438, 11.9754, 2.5385, 51.546, 8.5319, 0.5552, 74.7067, 0.9913, 12.8811, 7.1095, 0.085, 6.8457, 18.3031, 8.7561, 27.4267, 6.6341, 63.6689, 3.994, 41.4869, 26.2955, 43.0031, 3.8959, 8.8937, 47.2087, 30.4338, 54.9673, 24.9437, 43.0305, 25.6462, 34.8512, 5.8462, 1.6257, 0.5959, 18.791, 42.3986, 5.8524, 50.2853, 49.6075, 0.0, 89.8343, 13.8372, 12.1832, 3.2132, 38.1306, 54.5413, 9.0288, 53.5082, 25.0975, 18.8076, 33.9215, 19.1215, 0.0348, 13.2217, 11.1271, 21.6927, 40.7946, 11.5113, 19.9394, 1.7042, 10.6781, 1.0154, 5.1322, 39.6713, 7.9293, 83.9105, 9.0794, 19.0347, 56.9927, 30.4651, 5.3142, 63.7162, 37.0465, 45.7579, 27.376, 18.4221, 48.3471, 3.158, 2.8454, 27.9993, 71.9737, 0.3816, 0.4444, 13.745, 14.7563, 4.793, 14.7769, 5.5214]\n",
      "(51.45, 0.463018, 24.746666)\n",
      "(0.0, 0.0005, 0.0)\n",
      "(98.0, 0.9934, 89.8343)\n"
     ]
    }
   ],
   "source": [
    "# Namu darbas\n",
    "# parašykite klasę TxtAnalyzer, kuriai kreipimosi metu galima būtų nurodyti failo pavadinimą ir stulpelių skirtuką.\n",
    "# klasė sukūrimo metu turi nuskaityti failą, stulpelius skaičių suskirstyti į sąrašus ir juos priskirti atributams X, Y ir Z.\n",
    "# Realizuokite metodus, kurie grąžintų X, Y, Z sąrašų vidurkius, minimalias ir maksimalias vertes. Pythone yra min, max, sum funkcijos;\n",
    "\n",
    "class TxtAnalyzer():\n",
    "    def __init__(self, Pavadinimas, Skirtukas):\n",
    "        self.Pavadinimas = Pavadinimas\n",
    "        self.Skirtukas = Skirtukas\n",
    "        self.X = []\n",
    "        self.Y = []\n",
    "        self.Z = []\n",
    "\n",
    "    def TextReader(self): # metodas\n",
    "        fname = self.Pavadinimas\n",
    "        file = open(fname, mode='r', encoding= 'utf-8')\n",
    "        Tekstas = file.readlines() # suformuoja teksta kaip eiluciu sarasa\n",
    "        file.close()\n",
    "        print(Tekstas) # pasitikrinam ar veikia\n",
    "\n",
    "        for skaicius in Tekstas:\n",
    "            self.X.append(float(skaicius.split(self.Skirtukas)[0]))\n",
    "            self.Y.append(float(skaicius.split(self.Skirtukas)[1]))           \n",
    "            self.Z.append(float(skaicius.split(self.Skirtukas)[2]))\n",
    "        print(self.X) # pasitikrinam ar veikia\n",
    "        print(self.Y) # pasitikrinam ar veikia\n",
    "        print(self.Z) # pasitikrinam ar veikia\n",
    "\n",
    "    def getVidurkis(self):\n",
    "        vidurkisX = sum(self.X)/len(self.X)\n",
    "        vidurkisY = sum(self.Y)/len(self.Y)\n",
    "        vidurkisZ = sum(self.Z)/len(self.Z)\n",
    "        return(vidurkisX, vidurkisY, vidurkisZ)\n",
    "    \n",
    "    def getMin(self):\n",
    "        MinX = (min(self.X))\n",
    "        MinY = (min(self.Y))\n",
    "        MinZ = (min(self.Z))\n",
    "        return(MinX, MinY, MinZ)\n",
    "\n",
    "    def getMax(self):\n",
    "        MaxX = (max(self.X))\n",
    "        MaxY = (max(self.Y))\n",
    "        MaxZ = (max(self.Z))\n",
    "        return(MaxX, MaxY, MaxZ)\n",
    "    \n",
    "txt = TxtAnalyzer('data2.txt', ';') #pasitikrinam ar nuskaitoo info is failo\n",
    "txt.TextReader()\n",
    "print(txt.getVidurkis())\n",
    "print(txt.getMin())\n",
    "print(txt.getMax())"
   ]
  },
  {
   "cell_type": "code",
   "execution_count": 24,
   "metadata": {},
   "outputs": [
    {
     "name": "stdout",
     "output_type": "stream",
     "text": [
      "X: \n",
      "Ave: 51.47\n",
      "Min: 0.0\n",
      "Max: 99.0\n",
      "\n",
      "Y: \n",
      "Ave: 0.546122\n",
      "Min: 0.0196\n",
      "Max: 0.9966\n",
      "\n",
      "Z: \n",
      "Ave: 27.091621\n",
      "Min: 0.0\n",
      "Max: 86.4277\n"
     ]
    }
   ],
   "source": [
    "# Mindaugo sprendimas\n",
    "\n",
    "class TxtAnalyzer:\n",
    "    def __init__(self, fileName, dell=';'):\n",
    "        self.fileName = fileName\n",
    "        self.dell = dell\n",
    "        self.X, self.Y, self.Z = self.readFile()\n",
    "    def readFile(self):\n",
    "        X, Y, Z = [], [], []\n",
    "        try:\n",
    "             with open(self.fileName, 'r') as file:\n",
    "                for line in file:\n",
    "                    values = line.strip().split(self.dell)\n",
    "                    if len(values) == 3:\n",
    "                        X.append(float(values[0]))\n",
    "                        Y.append(float(values[1]))\n",
    "                        Z.append(float(values[2]))\n",
    "        except FileNotFoundError:\n",
    "            print(\"File not found!\")\n",
    "        return X, Y, Z\n",
    "    def Ave(self, data):\n",
    "        if data:\n",
    "            return sum(data)/len(data)\n",
    "        else:\n",
    "            return None\n",
    "    def Min(self, data):\n",
    "        if data:\n",
    "            return min(data)\n",
    "        else:\n",
    "            return None\n",
    "    def Max(self, data):\n",
    "        if data:\n",
    "            return max(data)\n",
    "        else:\n",
    "            return None\n",
    "fileName = \"data0.txt\"  \n",
    "analyzer = TxtAnalyzer(fileName)\n",
    "print(\"X: \")\n",
    "print(\"Ave:\", analyzer.Ave(analyzer.X))\n",
    "print(\"Min:\", analyzer.Min(analyzer.X))\n",
    "print(\"Max:\", analyzer.Max(analyzer.X))\n",
    "print(\"\\nY: \")\n",
    "print(\"Ave:\", analyzer.Ave(analyzer.Y))\n",
    "print(\"Min:\", analyzer.Min(analyzer.Y))\n",
    "print(\"Max:\", analyzer.Max(analyzer.Y))\n",
    "print(\"\\nZ: \")\n",
    "print(\"Ave:\", analyzer.Ave(analyzer.Z))\n",
    "print(\"Min:\", analyzer.Min(analyzer.Z))\n",
    "print(\"Max:\", analyzer.Max(analyzer.Z))"
   ]
  }
 ],
 "metadata": {
  "kernelspec": {
   "display_name": "Python 3",
   "language": "python",
   "name": "python3"
  },
  "language_info": {
   "codemirror_mode": {
    "name": "ipython",
    "version": 3
   },
   "file_extension": ".py",
   "mimetype": "text/x-python",
   "name": "python",
   "nbconvert_exporter": "python",
   "pygments_lexer": "ipython3",
   "version": "3.12.2"
  }
 },
 "nbformat": 4,
 "nbformat_minor": 2
}
