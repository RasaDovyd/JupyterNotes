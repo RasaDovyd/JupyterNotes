{
 "cells": [
  {
   "cell_type": "code",
   "execution_count": 14,
   "metadata": {},
   "outputs": [
    {
     "name": "stdout",
     "output_type": "stream",
     "text": [
      "sabaL\n"
     ]
    }
   ],
   "source": [
    "a = 'Labas'\n",
    "\n",
    "print(' '.join(word[::-1] for word in a.split()))"
   ]
  },
  {
   "cell_type": "code",
   "execution_count": 17,
   "metadata": {},
   "outputs": [
    {
     "name": "stdout",
     "output_type": "stream",
     "text": [
      "17\n"
     ]
    }
   ],
   "source": [
    "sarasas = [1,2,3,5,6]\n",
    "\n",
    "def saraso_ilgis(sarasas:list):\n",
    "    return sum(sarasas)\n",
    "print(sum(sarasas))"
   ]
  },
  {
   "cell_type": "code",
   "execution_count": 21,
   "metadata": {},
   "outputs": [
    {
     "name": "stdout",
     "output_type": "stream",
     "text": [
      "[2, 5, 63]\n"
     ]
    }
   ],
   "source": [
    "sarasas = [-1,2,5,-6,63,-5]\n",
    "naujas_sarasas = []\n",
    "\n",
    "for skaicius in sarasas:\n",
    "    if skaicius > 0:\n",
    "        naujas_sarasas.append(skaicius)\n",
    "\n",
    "print(naujas_sarasas)"
   ]
  },
  {
   "cell_type": "code",
   "execution_count": 38,
   "metadata": {},
   "outputs": [
    {
     "name": "stdout",
     "output_type": "stream",
     "text": [
      "None\n"
     ]
    }
   ],
   "source": [
    "# Parašykite funkciją, kuri priima dvi sąrašų rūšiavimo funkcijas: vieną didėjančiai rūšiavimui, kitą mažėjančiai rūšiavimui, ir sąrašą skaičių. \n",
    "# Funkcija turi grąžinti rūšiuotą sąrašą pagal pateiktas rūšiavimo funkcijas.\n",
    "\n",
    "sarasas = [5,7,3,1,25,9]\n",
    "\n",
    "sar1 = sarasas.sort(reverse=False)\n",
    "sar2 = sarasas.sort(reverse=True)\n",
    "print(sar1)"
   ]
  },
  {
   "cell_type": "code",
   "execution_count": 42,
   "metadata": {},
   "outputs": [
    {
     "name": "stdout",
     "output_type": "stream",
     "text": [
      "dalinasi\n"
     ]
    }
   ],
   "source": [
    "def skaiciaus_dalyba_is3(skaicius):\n",
    "    if skaicius % 3 == 0:\n",
    "        return 'dalinasi'\n",
    "    else:\n",
    "        return 'nesidalina'\n",
    "\n",
    "print(skaiciaus_dalyba_is3(15))"
   ]
  },
  {
   "cell_type": "code",
   "execution_count": 62,
   "metadata": {},
   "outputs": [
    {
     "name": "stdout",
     "output_type": "stream",
     "text": [
      "False\n"
     ]
    }
   ],
   "source": [
    "def pirminis_skaicius(skaicius):\n",
    "    for daliklis in range(2,skaicius):\n",
    "        if (skaicius % daliklis) == 0:\n",
    "            return 'False'\n",
    "        else:\n",
    "            return 'True'\n",
    "\n",
    "print(pirminis_skaicius(24))"
   ]
  },
  {
   "cell_type": "code",
   "execution_count": 65,
   "metadata": {},
   "outputs": [
    {
     "name": "stdout",
     "output_type": "stream",
     "text": [
      "['labas', 'rytas']\n"
     ]
    }
   ],
   "source": [
    "def pasikartojancios_raides(zodziai):\n",
    "    pasikartojantys_z = []\n",
    "    for zodis in zodziai:\n",
    "        if len(set(zodis)) < len(zodis):\n",
    "            pasikartojantys_z.append(zodis)\n",
    "    return pasikartojantys_z\n",
    "\n",
    "print(['labas','rytas'])"
   ]
  },
  {
   "cell_type": "code",
   "execution_count": 66,
   "metadata": {},
   "outputs": [
    {
     "name": "stdout",
     "output_type": "stream",
     "text": [
      "['labas', 'rytas']\n"
     ]
    }
   ],
   "source": [
    "def pasikartojancios_raides(zodziai):\n",
    "    pasikartojantys_z = []\n",
    "    for zodis in zodziai:\n",
    "        for raide in zodis:\n",
    "            if zodis.count(raide) > 1:\n",
    "                pasikartojantys_z.append(zodis)\n",
    "                break\n",
    "    return pasikartojantys_z\n",
    "\n",
    "print(['labas','rytas'])"
   ]
  },
  {
   "cell_type": "code",
   "execution_count": 71,
   "metadata": {},
   "outputs": [
    {
     "name": "stdout",
     "output_type": "stream",
     "text": [
      "True\n"
     ]
    }
   ],
   "source": [
    "def pirminis_skaicius(skaicius:int):\n",
    "    if skaicius <= 2:\n",
    "        return 'False'\n",
    "    for sk in range(2,skaicius):\n",
    "        if skaicius % sk == 0:\n",
    "            return 'False'\n",
    "        else:\n",
    "            return 'True'\n",
    "print(pirminis_skaicius(55))"
   ]
  }
 ],
 "metadata": {
  "kernelspec": {
   "display_name": "Python 3",
   "language": "python",
   "name": "python3"
  },
  "language_info": {
   "codemirror_mode": {
    "name": "ipython",
    "version": 3
   },
   "file_extension": ".py",
   "mimetype": "text/x-python",
   "name": "python",
   "nbconvert_exporter": "python",
   "pygments_lexer": "ipython3",
   "version": "3.12.3"
  }
 },
 "nbformat": 4,
 "nbformat_minor": 2
}
