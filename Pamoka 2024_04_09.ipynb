{
 "cells": [
  {
   "cell_type": "code",
   "execution_count": 12,
   "metadata": {},
   "outputs": [
    {
     "name": "stdout",
     "output_type": "stream",
     "text": [
      "Audi turi 4 sedimu vietu.\n",
      "Man Bussesturi 55 sedimu vietu.\n",
      "Train Company turi 300 sedimu vietu.\n"
     ]
    }
   ],
   "source": [
    "#su paveldėjimu:\n",
    "# Sukurkite klasę Vehicle su tokiais atributais - Pavadinimas, Rida\n",
    "#Sukurkite išvestines klases Car, Bus, Train,\n",
    "# kurie paveldėtų viską iš Vehicle, ir papildomai būtų galima\n",
    "# nurodyti Seats - sėdimų vietų skaičių, ir visi \n",
    "# turėtų metoda GetSeats() grąžinantį tekstą:\n",
    "# <Pavadinimas> turi <Seats> sėdimų vietų.\n",
    "\n",
    "class Vehicles():\n",
    "    def __init__(self, Pavadinimas, Rida):\n",
    "        self. Pavadinimas = Pavadinimas\n",
    "        self.Rida = Rida\n",
    "\n",
    "class Car(Vehicles): # isirasom () tevines klases pavadinima\n",
    "    def __init__(self, Pavadinimas, Rida, Seats):  # kintamuosius isirasome, tai ka paveldejom + naujas sios klases\n",
    "        super().__init__(Pavadinimas, Rida)# kintamuosius isirasome, tai ka paveldejom\n",
    "        self.Seats = Seats # isirasome trukstama kintamaji\n",
    "\n",
    "    def GetSeats(self):\n",
    "        Txt = self.Pavadinimas + \"turi \"+ str(self.Seats) + \" sedimu vietu.\"\n",
    "        return Txt\n",
    "    \n",
    "class Bus(Vehicles): \n",
    "    def __init__(self, Pavadinimas, Rida, Seats):  \n",
    "        super().__init__(Pavadinimas, Rida)\n",
    "        self.Seats = Seats \n",
    "\n",
    "    def GetSeats(self):\n",
    "        Txt = self.Pavadinimas + \"turi \"+ str(self.Seats) + \" sedimu vietu.\"\n",
    "        return Txt\n",
    "    \n",
    "class Train(Vehicles): \n",
    "    def __init__(self, Pavadinimas, Rida, Seats):  \n",
    "        super().__init__(Pavadinimas, Rida)\n",
    "        self.Seats = Seats \n",
    "\n",
    "    def GetSeats(self):\n",
    "        Txt = self.Pavadinimas + \"turi \"+ str(self.Seats) + \" sedimu vietu.\"\n",
    "        return Txt\n",
    "transporto_priemones = Car(Pavadinimas = \"Audi \", Rida = 25300, Seats = 4)\n",
    "print(transporto_priemones.GetSeats())\n",
    "transporto_priemones = Bus(Pavadinimas = \"Man Busses\", Rida = 300, Seats = 55)\n",
    "print(transporto_priemones.GetSeats())\n",
    "transporto_priemones = Train(Pavadinimas = \"Train Company \", Rida = 0, Seats = 300)\n",
    "print(transporto_priemones.GetSeats())"
   ]
  },
  {
   "cell_type": "code",
   "execution_count": null,
   "metadata": {},
   "outputs": [],
   "source": [
    "# NUMPY MOBULIS"
   ]
  },
  {
   "cell_type": "code",
   "execution_count": 13,
   "metadata": {},
   "outputs": [
    {
     "name": "stdout",
     "output_type": "stream",
     "text": [
      "[0.25, 1.25, 2.25, 3.25, 4.25]\n"
     ]
    }
   ],
   "source": [
    "x = [1,2,3,4,5]\n",
    "\n",
    "naujas_x =[]\n",
    "for skaicius in x:\n",
    "    naujas_x.append(skaicius-0.75)\n",
    "print(naujas_x)"
   ]
  },
  {
   "cell_type": "code",
   "execution_count": 14,
   "metadata": {},
   "outputs": [],
   "source": [
    "import numpy as np"
   ]
  }
 ],
 "metadata": {
  "kernelspec": {
   "display_name": "Python 3",
   "language": "python",
   "name": "python3"
  },
  "language_info": {
   "codemirror_mode": {
    "name": "ipython",
    "version": 3
   },
   "file_extension": ".py",
   "mimetype": "text/x-python",
   "name": "python",
   "nbconvert_exporter": "python",
   "pygments_lexer": "ipython3",
   "version": "3.12.2"
  }
 },
 "nbformat": 4,
 "nbformat_minor": 2
}
