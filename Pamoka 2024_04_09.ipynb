{
 "cells": [
  {
   "cell_type": "code",
   "execution_count": 12,
   "metadata": {},
   "outputs": [
    {
     "name": "stdout",
     "output_type": "stream",
     "text": [
      "Audi turi 4 sedimu vietu.\n",
      "Man Bussesturi 55 sedimu vietu.\n",
      "Train Company turi 300 sedimu vietu.\n"
     ]
    }
   ],
   "source": [
    "#su paveldėjimu:\n",
    "# Sukurkite klasę Vehicle su tokiais atributais - Pavadinimas, Rida\n",
    "#Sukurkite išvestines klases Car, Bus, Train,\n",
    "# kurie paveldėtų viską iš Vehicle, ir papildomai būtų galima\n",
    "# nurodyti Seats - sėdimų vietų skaičių, ir visi \n",
    "# turėtų metoda GetSeats() grąžinantį tekstą:\n",
    "# <Pavadinimas> turi <Seats> sėdimų vietų.\n",
    "\n",
    "# class Vehicles():\n",
    "#     def __init__(self, Pavadinimas, Rida):\n",
    "#         self. Pavadinimas = Pavadinimas\n",
    "#         self.Rida = Rida\n",
    "\n",
    "# class Car(Vehicles): # isirasom () tevines klases pavadinima\n",
    "#     def __init__(self, Pavadinimas, Rida, Seats):  # kintamuosius isirasome, tai ka paveldejom + naujas sios klases\n",
    "#         super().__init__(Pavadinimas, Rida)# kintamuosius isirasome, tai ka paveldejom\n",
    "#         self.Seats = Seats # isirasome trukstama kintamaji\n",
    "\n",
    "#     def GetSeats(self):\n",
    "#         Txt = self.Pavadinimas + \"turi \"+ str(self.Seats) + \" sedimu vietu.\"\n",
    "#         return Txt\n",
    "    \n",
    "# class Bus(Vehicles): \n",
    "#     def __init__(self, Pavadinimas, Rida, Seats):  \n",
    "#         super().__init__(Pavadinimas, Rida)\n",
    "#         self.Seats = Seats \n",
    "\n",
    "#     def GetSeats(self):\n",
    "#         Txt = self.Pavadinimas + \"turi \"+ str(self.Seats) + \" sedimu vietu.\"\n",
    "#         return Txt\n",
    "    \n",
    "# class Train(Vehicles): \n",
    "#     def __init__(self, Pavadinimas, Rida, Seats):  \n",
    "#         super().__init__(Pavadinimas, Rida)\n",
    "#         self.Seats = Seats \n",
    "\n",
    "#     def GetSeats(self):\n",
    "#         Txt = self.Pavadinimas + \"turi \"+ str(self.Seats) + \" sedimu vietu.\"\n",
    "#         return Txt\n",
    "# transporto_priemones = Car(Pavadinimas = \"Audi \", Rida = 25300, Seats = 4)\n",
    "# print(transporto_priemones.GetSeats())\n",
    "# transporto_priemones = Bus(Pavadinimas = \"Man Busses\", Rida = 300, Seats = 55)\n",
    "# print(transporto_priemones.GetSeats())\n",
    "# transporto_priemones = Train(Pavadinimas = \"Train Company \", Rida = 0, Seats = 300)\n",
    "# print(transporto_priemones.GetSeats())"
   ]
  },
  {
   "cell_type": "code",
   "execution_count": null,
   "metadata": {},
   "outputs": [],
   "source": [
    "# NUMPY MOBULIS"
   ]
  },
  {
   "cell_type": "code",
   "execution_count": 13,
   "metadata": {},
   "outputs": [
    {
     "name": "stdout",
     "output_type": "stream",
     "text": [
      "[0.25, 1.25, 2.25, 3.25, 4.25]\n"
     ]
    }
   ],
   "source": [
    "x = [1,2,3,4,5]\n",
    "\n",
    "naujas_x =[]\n",
    "for skaicius in x:\n",
    "    naujas_x.append(skaicius-0.75)\n",
    "print(naujas_x)"
   ]
  },
  {
   "cell_type": "code",
   "execution_count": 14,
   "metadata": {},
   "outputs": [],
   "source": [
    "import numpy as np # importavosm numpy biblioteka"
   ]
  },
  {
   "cell_type": "code",
   "execution_count": 20,
   "metadata": {},
   "outputs": [
    {
     "name": "stdout",
     "output_type": "stream",
     "text": [
      "[0 2 4 6 8]\n",
      "<class 'numpy.ndarray'>\n"
     ]
    }
   ],
   "source": [
    "# array (masyvai)\n",
    "x = np.arange(0,10) #arange funkcija, galima nurodyti ir zingsni (0,10,3)\n",
    "print(x) # isspausdina be kableliu, reiskia tai numpy masyvas\n",
    "print(type(x)) # ripas- masyvas"
   ]
  },
  {
   "cell_type": "code",
   "execution_count": 21,
   "metadata": {},
   "outputs": [
    {
     "name": "stdout",
     "output_type": "stream",
     "text": [
      "[-0.75  1.25  3.25  5.25  7.25]\n"
     ]
    }
   ],
   "source": [
    "y = x-0.75\n",
    "print(y)"
   ]
  },
  {
   "cell_type": "code",
   "execution_count": null,
   "metadata": {},
   "outputs": [],
   "source": [
    "np.average()\n",
    "np.min()\n",
    "np.mean()\n",
    "np.median()"
   ]
  },
  {
   "cell_type": "code",
   "execution_count": 22,
   "metadata": {},
   "outputs": [
    {
     "name": "stdout",
     "output_type": "stream",
     "text": [
      "[1, 2, 3, 4, 5, 6, 7, 8, 9, 10]\n"
     ]
    }
   ],
   "source": [
    "a_list = [i for i in range(1,11)] # bus sarasas\n",
    "print(a_list)"
   ]
  },
  {
   "cell_type": "code",
   "execution_count": 25,
   "metadata": {},
   "outputs": [
    {
     "name": "stdout",
     "output_type": "stream",
     "text": [
      "[ 1.75  2.75  3.75  4.75  5.75  6.75  7.75  8.75  9.75 10.75]\n"
     ]
    }
   ],
   "source": [
    "a_array = np.asarray(a_list) # konvertuoja pitono sarasa i masyva, su kuriuo galima atlikineti matematinius veiksmus\n",
    "print(a_array+0.75)"
   ]
  },
  {
   "cell_type": "code",
   "execution_count": 27,
   "metadata": {},
   "outputs": [
    {
     "name": "stdout",
     "output_type": "stream",
     "text": [
      "[ 1  8 15]\n"
     ]
    }
   ],
   "source": [
    "x = [1,2,3] # turi buti vienodsa elementu kiekis, kitaip neveiks\n",
    "y = [1,4,5]\n",
    "# norint sudauginti sarasu skaicius viena su kitu\n",
    "x_np = np.asarray(x)\n",
    "y_np = np.asarray(y)\n",
    "c = x_np*y_np\n",
    "print(c)"
   ]
  },
  {
   "cell_type": "code",
   "execution_count": 31,
   "metadata": {},
   "outputs": [
    {
     "data": {
      "text/plain": [
       "2.0"
      ]
     },
     "execution_count": 31,
     "metadata": {},
     "output_type": "execute_result"
    }
   ],
   "source": [
    "np.min(x)\n",
    "np.max(x)\n",
    "np.median(x)"
   ]
  },
  {
   "cell_type": "code",
   "execution_count": 32,
   "metadata": {},
   "outputs": [
    {
     "name": "stdout",
     "output_type": "stream",
     "text": [
      "[3 9 7 0 4 7 3 5 4 1 1 0 0 5 1 5 0 5 7 0 4 1 0 6 0 4 6 3 4 8 3 0 0 8 1 3 6\n",
      " 0 5 1 1 7 9 2 4 3 9 2 5 5 3 3 6 0 6 5 7 6 1 8 3 5 5 9 8 9 7 6 2 2 0 6 5 3\n",
      " 4 6 4 2 5 2 4 9 0 6 6 9 0 1 0 8 0 5 7 4 8 8 5 2 8 0]\n"
     ]
    }
   ],
   "source": [
    "atsitiktinis = np.random.randint(0,10,100) # np - modulis, random - moduliukas, randint -\n",
    "print(atsitiktinis) # sugeneruoja kiek elementu nori, siuo atveju nuo 1 iki 10 simta random elementu"
   ]
  },
  {
   "cell_type": "code",
   "execution_count": 34,
   "metadata": {},
   "outputs": [
    {
     "name": "stdout",
     "output_type": "stream",
     "text": [
      "[0.83644469 0.4726832  0.48479838 0.16269632 0.38416868 0.59689948\n",
      " 0.30337495 0.83014002 0.16950161 0.67993365]\n"
     ]
    }
   ],
   "source": [
    "atstitiktitnis_float = np.random.rand(10) # jei naudojam rand- bus skaiciai nuo 0 iki 1, gali kartotis; randint jau butina nurodyti rezi skaiciu\n",
    "print(atstitiktitnis_float)"
   ]
  },
  {
   "cell_type": "code",
   "execution_count": 67,
   "metadata": {},
   "outputs": [
    {
     "name": "stdout",
     "output_type": "stream",
     "text": [
      "5.16\n",
      "5.16\n",
      "5.217306832020242\n",
      "5.0\n",
      "5.0 1 9\n"
     ]
    }
   ],
   "source": [
    "xas = np.random.randint(1,10,100)\n",
    "svoriai = np.random.rand(100)\n",
    "# mean in average- mean skaiciuoja vidurki\n",
    "\n",
    "vidurkis = np.mean(xas) # grieztai aritmetinis vidurkis\n",
    "print(vidurkis) # kas kart printinant skirsis ats, nes kas kart generuojami vis kiti random skaiciai\n",
    "sv_vid = np.average(xas) # vidurkis atsizvelgiant i svorius\n",
    "print(sv_vid)\n",
    "sv_vid = np.average(xas, weights = svoriai)\n",
    "print(sv_vid)\n",
    "\n",
    "\n",
    "# median()\n",
    "medx = np.median(xas)\n",
    "print(medx)\n",
    "print(medx, np.min(xas), np.max(xas))"
   ]
  },
  {
   "cell_type": "code",
   "execution_count": 78,
   "metadata": {},
   "outputs": [
    {
     "name": "stdout",
     "output_type": "stream",
     "text": [
      "[ 0.  1.  2.  3.  4.  5.  6.  7.  8.  9. 10.]\n"
     ]
    }
   ],
   "source": [
    "# linspace funkcija (linear space)\n",
    "#nurodomas startas ir stopas ir kiek skaiciu norima gauti, zingsnis pasirenkamas pagal default formule\n",
    "\n",
    "l = np.linspace(0,10,11) # skaiciai skiriasi, nes juos delioja vienodais atstumais tieseje, paskaiciuoja pats zingsni\n",
    "print(l)"
   ]
  },
  {
   "cell_type": "code",
   "execution_count": 85,
   "metadata": {},
   "outputs": [
    {
     "name": "stdout",
     "output_type": "stream",
     "text": [
      "0\n",
      "4.5\n",
      "9\n"
     ]
    }
   ],
   "source": [
    "# asarray, arange, min, max, mean, average, median\n",
    "n_np = np.arange(0,10)\n",
    "# kaip metodai:\n",
    "minn = n_np.min()\n",
    "print(minn)\n",
    "\n",
    "print(n_np.mean()) # aritmetinis vidurkis\n",
    "\n",
    "# n_np.median() # medianai neveikia metodas, nerealizuotas, reikia naudoti kaip funkcija\n",
    "\n",
    "print(n_np.max())"
   ]
  },
  {
   "cell_type": "code",
   "execution_count": 2,
   "metadata": {},
   "outputs": [],
   "source": [
    "%load_ext autoreload\n",
    "%autoreload 2\n",
    "import modulis"
   ]
  },
  {
   "cell_type": "code",
   "execution_count": 3,
   "metadata": {},
   "outputs": [
    {
     "name": "stdout",
     "output_type": "stream",
     "text": [
      "55\n"
     ]
    }
   ],
   "source": [
    "print(modulis.A)"
   ]
  },
  {
   "cell_type": "code",
   "execution_count": 4,
   "metadata": {},
   "outputs": [
    {
     "name": "stdout",
     "output_type": "stream",
     "text": [
      "As esu nauja PrintA() funkcija\n",
      "Dar vienas paskutinis pakeitimas\n"
     ]
    }
   ],
   "source": [
    "modulis.printA()"
   ]
  },
  {
   "cell_type": "code",
   "execution_count": 5,
   "metadata": {},
   "outputs": [
    {
     "name": "stdout",
     "output_type": "stream",
     "text": [
      "Ford turi 6 sedimu vietu.\n",
      "Double Decker turi 135 sedimu vietu.\n",
      "Traukinukas Tomas turi 300 sedimu vietu.\n"
     ]
    }
   ],
   "source": [
    "# iškelkite savo anksčiau rašytas Vehicle, Car, etc klases\n",
    "# į modulį\n",
    "# ir patikrinkite klasių veikimą\n",
    "# sukurdami kintamuosius ir patikrindami jų veikimą\n",
    "\n",
    "transporto_priemones = modulis.Car(Pavadinimas = \"Ford \", Rida = 2300, Seats = 6)\n",
    "print(transporto_priemones.GetSeats())\n",
    "transporto_priemones = modulis.Bus(Pavadinimas = \"Double Decker \", Rida = 500000, Seats = 135) # butina pries klases pavadinima parasyti modulio pavadinima, kitaip neveiks\n",
    "print(transporto_priemones.GetSeats())\n",
    "transporto_priemones = modulis.Train(Pavadinimas = \"Traukinukas Tomas \", Rida = 5965210, Seats = 300)\n",
    "print(transporto_priemones.GetSeats())"
   ]
  },
  {
   "cell_type": "code",
   "execution_count": 46,
   "metadata": {},
   "outputs": [
    {
     "name": "stdout",
     "output_type": "stream",
     "text": [
      "['U[V] ; I[A] ; j[mA/cm^2] ; P[mW/cm^2]\\n', '1.2 ; 0.0010878 ; 13.59755 ; 16.31706\\n', '1.1766667 ; 0.0008779 ; 10.9735512 ; 12.912212\\n', '1.1533333 ; 0.000675 ; 8.4376562 ; 9.7314302\\n', '1.13 ; 0.0004624 ; 5.780055 ; 6.5314621\\n', '1.1066667 ; 0.0002595 ; 3.2442637 ; 3.5903185\\n', '1.0833333 ; 7.83e-05 ; 0.9787641 ; 1.0603278\\n', '1.06 ; -7.92e-05 ; -0.9902056 ; -1.049618\\n', '1.0366667 ; -0.0002111 ; -2.63856 ; -2.7353072\\n', '1.0133333 ; -0.0003275 ; -4.0936325 ; -4.1482143\\n', '0.99 ; -0.0004257 ; -5.3214875 ; -5.2682726\\n', '0.9666667 ; -0.0005053 ; -6.3163262 ; -6.105782\\n', '0.9433333 ; -0.0005775 ; -7.2184413 ; -6.8093962\\n', '0.92 ; -0.0006322 ; -7.9018762 ; -7.2697261\\n', '0.8966667 ; -0.0006841 ; -8.55161 ; -7.6679436\\n', '0.8733333 ; -0.0007236 ; -9.0446012 ; -7.8989518\\n', '0.85 ; -0.0007626 ; -9.5324562 ; -8.1025878\\n', '0.8266667 ; -0.0007935 ; -9.9188812 ; -8.1996085\\n', '0.8033333 ; -0.00082 ; -10.2496088 ; -8.2338524\\n', '0.78 ; -0.000844 ; -10.54984 ; -8.2288752\\n', '0.7566667 ; -0.0008673 ; -10.8409325 ; -8.2029723\\n', '0.7333333 ; -0.0008861 ; -11.0765737 ; -8.1228207\\n', '0.71 ; -0.0009078 ; -11.3475225 ; -8.056741\\n', '0.6866667 ; -0.0009232 ; -11.54044 ; -7.9244355\\n', '0.6633333 ; -0.0009366 ; -11.7071862 ; -7.7657669\\n', '0.64 ; -0.0009499 ; -11.8743688 ; -7.599596\\n', '0.6166667 ; -0.0009627 ; -12.0343163 ; -7.4211617\\n', '0.5933333 ; -0.0009703 ; -12.1289325 ; -7.1964999\\n', '0.57 ; -0.0009859 ; -12.3241412 ; -7.0247605\\n', '0.5466667 ; -0.0009944 ; -12.430245 ; -6.7952006\\n', '0.5233333 ; -0.0010052 ; -12.564875 ; -6.5756179\\n', '0.5 ; -0.0010112 ; -12.6399875 ; -6.3199937\\n', '0.4766667 ; -0.0010199 ; -12.748875 ; -6.0769637\\n', '0.4533333 ; -0.0010326 ; -12.9069375 ; -5.851145\\n', '0.43 ; -0.001036 ; -12.949525 ; -5.5682957\\n', '0.4066667 ; -0.0010445 ; -13.0564375 ; -5.3096179\\n', '0.3833333 ; -0.0010523 ; -13.1534625 ; -5.0421606\\n', '0.36 ; -0.0010578 ; -13.2229375 ; -4.7602575\\n', '0.3366667 ; -0.0010652 ; -13.315025 ; -4.4827251\\n', '0.3133333 ; -0.001071 ; -13.3871125 ; -4.1946286\\n', '0.29 ; -0.0010763 ; -13.454075 ; -3.9016817\\n', '0.2666667 ; -0.0010762 ; -13.4520625 ; -3.5872167\\n', '0.2433333 ; -0.0010847 ; -13.5591375 ; -3.2993901\\n', '0.22 ; -0.0010849 ; -13.5611375 ; -2.9834502\\n', '0.1966667 ; -0.0010945 ; -13.681475 ; -2.6906901\\n', '0.1733333 ; -0.0010986 ; -13.7326875 ; -2.3803325\\n', '0.15 ; -0.0010973 ; -13.7157375 ; -2.0573606\\n', '0.1266667 ; -0.0011029 ; -13.786125 ; -1.7462425\\n', '0.1033333 ; -0.0011123 ; -13.9040625 ; -1.4367531\\n', '0.08 ; -0.0011134 ; -13.9177125 ; -1.113417\\n', '0.0566667 ; -0.0011145 ; -13.9308875 ; -0.789417\\n', '0.0333333 ; -0.0011196 ; -13.99485 ; -0.466495\\n', '0.01 ; -0.0011251 ; -14.0638125 ; -0.1406381\\n', '-0.0133333 ; -0.0011315 ; -14.143925 ; 0.1885857\\n', '-0.0366667 ; -0.0011255 ; -14.069175 ; 0.5158698\\n', '-0.06 ; -0.0011356 ; -14.194875 ; 0.8516925\\n', '-0.0833333 ; -0.001135 ; -14.187575 ; 1.1822979\\n', '-0.1066667 ; -0.0011368 ; -14.209825 ; 1.5157147\\n', '-0.13 ; -0.0011369 ; -14.2107875 ; 1.8474024\\n', '-0.1533333 ; -0.0011401 ; -14.2518 ; 2.185276\\n', '-0.1766667 ; -0.0011429 ; -14.2859625 ; 2.5238534\\n', '-0.2 ; -0.0011471 ; -14.338775 ; 2.867755']\n",
      "[1.2, 1.1766667, 1.1533333, 1.13, 1.1066667, 1.0833333, 1.06, 1.0366667, 1.0133333, 0.99, 0.9666667, 0.9433333, 0.92, 0.8966667, 0.8733333, 0.85, 0.8266667, 0.8033333, 0.78, 0.7566667, 0.7333333, 0.71, 0.6866667, 0.6633333, 0.64, 0.6166667, 0.5933333, 0.57, 0.5466667, 0.5233333, 0.5, 0.4766667, 0.4533333, 0.43, 0.4066667, 0.3833333, 0.36, 0.3366667, 0.3133333, 0.29, 0.2666667, 0.2433333, 0.22, 0.1966667, 0.1733333, 0.15, 0.1266667, 0.1033333, 0.08, 0.0566667, 0.0333333, 0.01, -0.0133333, -0.0366667, -0.06, -0.0833333, -0.1066667, -0.13, -0.1533333, -0.1766667, -0.2]\n",
      "[0.0010878, 0.0008779, 0.000675, 0.0004624, 0.0002595, 7.83e-05, -7.92e-05, -0.0002111, -0.0003275, -0.0004257, -0.0005053, -0.0005775, -0.0006322, -0.0006841, -0.0007236, -0.0007626, -0.0007935, -0.00082, -0.000844, -0.0008673, -0.0008861, -0.0009078, -0.0009232, -0.0009366, -0.0009499, -0.0009627, -0.0009703, -0.0009859, -0.0009944, -0.0010052, -0.0010112, -0.0010199, -0.0010326, -0.001036, -0.0010445, -0.0010523, -0.0010578, -0.0010652, -0.001071, -0.0010763, -0.0010762, -0.0010847, -0.0010849, -0.0010945, -0.0010986, -0.0010973, -0.0011029, -0.0011123, -0.0011134, -0.0011145, -0.0011196, -0.0011251, -0.0011315, -0.0011255, -0.0011356, -0.001135, -0.0011368, -0.0011369, -0.0011401, -0.0011429, -0.0011471]\n",
      "[13.59755, 10.9735512, 8.4376562, 5.780055, 3.2442637, 0.9787641, -0.9902056, -2.63856, -4.0936325, -5.3214875, -6.3163262, -7.2184413, -7.9018762, -8.55161, -9.0446012, -9.5324562, -9.9188812, -10.2496088, -10.54984, -10.8409325, -11.0765737, -11.3475225, -11.54044, -11.7071862, -11.8743688, -12.0343163, -12.1289325, -12.3241412, -12.430245, -12.564875, -12.6399875, -12.748875, -12.9069375, -12.949525, -13.0564375, -13.1534625, -13.2229375, -13.315025, -13.3871125, -13.454075, -13.4520625, -13.5591375, -13.5611375, -13.681475, -13.7326875, -13.7157375, -13.786125, -13.9040625, -13.9177125, -13.9308875, -13.99485, -14.0638125, -14.143925, -14.069175, -14.194875, -14.187575, -14.209825, -14.2107875, -14.2518, -14.2859625, -14.338775]\n",
      "[16.31706, 12.912212, 9.7314302, 6.5314621, 3.5903185, 1.0603278, -1.049618, -2.7353072, -4.1482143, -5.2682726, -6.105782, -6.8093962, -7.2697261, -7.6679436, -7.8989518, -8.1025878, -8.1996085, -8.2338524, -8.2288752, -8.2029723, -8.1228207, -8.056741, -7.9244355, -7.7657669, -7.599596, -7.4211617, -7.1964999, -7.0247605, -6.7952006, -6.5756179, -6.3199937, -6.0769637, -5.851145, -5.5682957, -5.3096179, -5.0421606, -4.7602575, -4.4827251, -4.1946286, -3.9016817, -3.5872167, -3.2993901, -2.9834502, -2.6906901, -2.3803325, -2.0573606, -1.7462425, -1.4367531, -1.113417, -0.789417, -0.466495, -0.1406381, 0.1885857, 0.5158698, 0.8516925, 1.1822979, 1.5157147, 1.8474024, 2.185276, 2.5238534, 2.867755]\n",
      "1.63\n"
     ]
    }
   ],
   "source": [
    "#sukurkite failus nuskaitančią klasę, ji turi būti aprašyta jūsų kuriamame modulyje;\n",
    "#ta klasė turi nuskaityti pateiktą failą, ir suskaidyti stulpelius į sąrašus:\n",
    "#sąrašai I, U, j, P, duomenys iš juos iš atitinkamų taip pat pavadintų stulpelių\n",
    "#realizuokite tai, jog klasė rastų tokį dydį - maksimalų P, suskaičiuotų tokį dydį pce = Pmax / 1000 * 100%;\n",
    "#šie dydžiai turi būti pasiekiamį arba kaip atributas, arba galite įdėti metodą jam gauti\n",
    "\n",
    "#pilnas sprendimas, su pasitikrinimo printais\n",
    "# class keturiolika_failu():\n",
    "#     def __init__(self, Pavadinimas, Skirtukas):\n",
    "#         self.Pavadinimas = Pavadinimas\n",
    "#         self.Skirtukas = Skirtukas\n",
    "#         self.I = []\n",
    "#         self.U = []\n",
    "#         self.j = []\n",
    "#         self.p = []\n",
    "\n",
    "#     def dataReader(self):\n",
    "#         fname = self.Pavadinimas\n",
    "#         file = open(fname, mode='r', encoding= 'utf-8')\n",
    "#         sarasas = file.readlines() # suformuoja teksta kaip eiluciu sarasa\n",
    "#         file.close()\n",
    "#         print(sarasas) # pasitikrinam ar veikia\n",
    "\n",
    "#         for eilute in sarasas[1::]:\n",
    "#             self.I.append(float(eilute.split(self.Skirtukas)[0]))\n",
    "#             self.U.append(float(eilute.split(self.Skirtukas)[1]))           \n",
    "#             self.j.append(float(eilute.split(self.Skirtukas)[2]))\n",
    "#             self.p.append(float(eilute.split(self.Skirtukas)[3].replace('\\n', '')))\n",
    "#         print(self.I)\n",
    "#         print(self.U) \n",
    "#         print(self.j) \n",
    "#         print(self.p) \n",
    "\n",
    "#     def getPmax(self):\n",
    "#         Pmax = (max(self.p))\n",
    "#         return Pmax\n",
    "    \n",
    "#     def getPCE(self):\n",
    "#         Pmax= self.getPmax()\n",
    "#         PCE = round((Pmax / 1000 * 100),2)\n",
    "#         return PCE\n",
    "    \n",
    "# sarasas = keturiolika_failu('REF_D_5k_FW_2.03.dat', ';') #pasitikrinam ar nuskaito info is failo\n",
    "# sarasas.dataReader()\n",
    "# print(sarasas.getPCE())"
   ]
  },
  {
   "cell_type": "code",
   "execution_count": 97,
   "metadata": {},
   "outputs": [
    {
     "name": "stdout",
     "output_type": "stream",
     "text": [
      "1.63\n"
     ]
    }
   ],
   "source": [
    "sarasas = modulis.keturiolika_failu('REF_D_5k_FW_2.03.dat', ';')\n",
    "sarasas.dataReader()\n",
    "print(sarasas.getPCE())"
   ]
  },
  {
   "cell_type": "code",
   "execution_count": 104,
   "metadata": {},
   "outputs": [
    {
     "name": "stdout",
     "output_type": "stream",
     "text": [
      "1.63\n"
     ]
    }
   ],
   "source": [
    "#sukurkite failus nuskaitančią klasę, ji turi būti aprašyta jūsų kuriamame modulyje;\n",
    "#ta klasė turi nuskaityti pateiktą failą, ir suskaidyti stulpelius į sąrašus:\n",
    "#sąrašai I, U, j, P, duomenys iš juos iš atitinkamų taip pat pavadintų stulpelių\n",
    "#realizuokite tai, jog klasė rastų tokį dydį - maksimalų P, suskaičiuotų tokį dydį pce = Pmax / 1000 * 100%;\n",
    "#šie dydžiai turi būti pasiekiamį arba kaip atributas, arba galite įdėti metodą jam gauti\n",
    "\n",
    "class keturiolika_failu():\n",
    "    def __init__(self, Pavadinimas, Skirtukas):\n",
    "        self.Pavadinimas = Pavadinimas\n",
    "        self.Skirtukas = Skirtukas\n",
    "        self.I = []\n",
    "        self.U = []\n",
    "        self.j = []\n",
    "        self.p = []\n",
    "        self.dataReader() # kreipiasi i dataReader\n",
    "\n",
    "    def dataReader(self):\n",
    "        fname = self.Pavadinimas\n",
    "        file = open(fname, mode='r', encoding= 'utf-8')\n",
    "        sarasas = file.readlines()\n",
    "        file.close()\n",
    "\n",
    "        for eilute in sarasas[1::]:\n",
    "            self.I.append(float(eilute.split(self.Skirtukas)[0]))\n",
    "            self.U.append(float(eilute.split(self.Skirtukas)[1]))           \n",
    "            self.j.append(float(eilute.split(self.Skirtukas)[2]))\n",
    "            self.p.append(float(eilute.split(self.Skirtukas)[3].replace('\\n', '')))\n",
    "\n",
    "    def getPmax(self):\n",
    "        Pmax = (max(self.p))\n",
    "        return Pmax\n",
    "    \n",
    "    def getPCE(self):\n",
    "        Pmax= self.getPmax()\n",
    "        PCE = round((Pmax / 1000 * 100),2)\n",
    "        return PCE\n",
    "    \n",
    "sarasas = keturiolika_failu('REF_D_5k_FW_2.03.dat',';')\n",
    "# sarasas.dataReader()\n",
    "print(sarasas.getPCE())"
   ]
  },
  {
   "cell_type": "code",
   "execution_count": null,
   "metadata": {},
   "outputs": [],
   "source": [
    "#__ padaro metoda privaciu ir kitas naudotojas negali juo pasinaudoti, kol pas nenuimsi __\n",
    "class keturiolika_failu():\n",
    "    def __init__(self, Pavadinimas, Skirtukas):\n",
    "        self.Pavadinimas = Pavadinimas\n",
    "        self.Skirtukas = Skirtukas\n",
    "        self.I = []\n",
    "        self.U = []\n",
    "        self.j = []\n",
    "        self.p = []\n",
    "        self.__dataReader() # kreipiasi i dataReader; __ padaro privaciu ir naudojami tik klases viduje\n",
    "\n",
    "    def __dataReader(self):\n",
    "        fname = self.Pavadinimas\n",
    "        file = open(fname, mode='r', encoding= 'utf-8')\n",
    "        sarasas = file.readlines()\n",
    "        file.close()\n",
    "\n",
    "        for eilute in sarasas[1::]:\n",
    "            self.I.append(float(eilute.split(self.Skirtukas)[0]))\n",
    "            self.U.append(float(eilute.split(self.Skirtukas)[1]))           \n",
    "            self.j.append(float(eilute.split(self.Skirtukas)[2]))\n",
    "            self.p.append(float(eilute.split(self.Skirtukas)[3].replace('\\n', '')))\n",
    "\n",
    "    def getPmax(self):\n",
    "        Pmax = (max(self.p))\n",
    "        return Pmax\n",
    "    \n",
    "    def getPCE(self):\n",
    "        Pmax= self.getPmax()\n",
    "        PCE = round((Pmax / 1000 * 100),2)\n",
    "        return PCE\n",
    "    \n",
    "sarasas = keturiolika_failu('REF_D_5k_FW_2.03.dat',';')\n",
    "# sarasas.__dataReader()\n",
    "print(sarasas.getPCE())"
   ]
  },
  {
   "cell_type": "code",
   "execution_count": null,
   "metadata": {},
   "outputs": [],
   "source": [
    "# Mantvydo pvz:\n",
    "#sukurkite failus nuskaitančią klasę, ji turi būti aprašyta jūsų kuriamame modulyje;\n",
    "#ta klasė turi nuskaityti pateiktą failą, ir suskaidyti stulpelius į sąrašus:\n",
    "#sąrašai I, U, j, P, duomenys iš juos iš atitinkamų taip pat pavadintų stulpelių\n",
    "#realizuokite tai, jog klasė rastų tokį dydį - maksimalų P, suskaičiuotų tokį dydį pce = Pmax / 1000 * 100%;\n",
    "#šie dydžiai turi būti pasiekiamį arba kaip atributas, arba galite įdėti metodą jam gauti\n",
    "\n",
    "class Txtreader:\n",
    "    def __init__(self, failopavadinimas):\n",
    "        self.failopavidinimas = failopavadinimas\n",
    "        self.I = []\n",
    "        self.U = []\n",
    "        self.j = []\n",
    "        self.P = []\n",
    "    \n",
    "    def skaitytojas(self):\n",
    "        failas = open(self.failopavidinimas, mode= \"r\")\n",
    "        tekstas = failas.readlines()\n",
    "        failas.close()\n",
    "        for eilute in tekstas[1:]:\n",
    "            u =float(eilute.split(\";\")[0])\n",
    "            self.U.append(u)\n",
    "            i =float(eilute.split(\";\")[1])\n",
    "            self.I.append(i)\n",
    "            J =float(eilute.split(\";\")[2])\n",
    "            self.j.append(J)\n",
    "            p =float(eilute.split(\";\")[3])\n",
    "            self.P.append(p)\n",
    "    def maksimalusP(self):\n",
    "        maximumas = max(self.P)\n",
    "        return maximumas\n",
    "    \n",
    "    def pce(self):\n",
    "        maximumas = self.maksimalusP()\n",
    "        ats = maximumas / 1000 * 100\n",
    "        return ats\n",
    "    \n",
    "\n",
    "kintamasis = Txtreader(\"REF_D_1k_FW_2.05.dat\")\n",
    "kintamasis.skaitytojas()\n",
    "kintamasis.maksimalusP()\n",
    "kintamasis.pce()\n",
    "import modulis\n",
    "\n",
    "\n",
    "kintamasis = modulis.Txtreader(\"REF_D_1k_FW_2.05.dat\")\n",
    "kintamasis.skaitytojas()\n",
    "kintamasis.maksimalusP()\n",
    "kintamasis.pce()"
   ]
  },
  {
   "cell_type": "code",
   "execution_count": 108,
   "metadata": {},
   "outputs": [],
   "source": [
    "import pandas as pd"
   ]
  },
  {
   "cell_type": "code",
   "execution_count": 107,
   "metadata": {},
   "outputs": [
    {
     "name": "stdout",
     "output_type": "stream",
     "text": [
      "Defaulting to user installation because normal site-packages is not writeable\n",
      "Collecting pandas\n",
      "  Using cached pandas-2.2.1-cp312-cp312-win_amd64.whl.metadata (19 kB)\n",
      "Requirement already satisfied: numpy<2,>=1.26.0 in c:\\users\\dovydaiciai\\appdata\\local\\packages\\pythonsoftwarefoundation.python.3.12_qbz5n2kfra8p0\\localcache\\local-packages\\python312\\site-packages (from pandas) (1.26.4)\n",
      "Requirement already satisfied: python-dateutil>=2.8.2 in c:\\users\\dovydaiciai\\appdata\\local\\packages\\pythonsoftwarefoundation.python.3.12_qbz5n2kfra8p0\\localcache\\local-packages\\python312\\site-packages (from pandas) (2.9.0.post0)\n",
      "Collecting pytz>=2020.1 (from pandas)\n",
      "  Downloading pytz-2024.1-py2.py3-none-any.whl.metadata (22 kB)\n",
      "Collecting tzdata>=2022.7 (from pandas)\n",
      "  Downloading tzdata-2024.1-py2.py3-none-any.whl.metadata (1.4 kB)\n",
      "Requirement already satisfied: six>=1.5 in c:\\users\\dovydaiciai\\appdata\\local\\packages\\pythonsoftwarefoundation.python.3.12_qbz5n2kfra8p0\\localcache\\local-packages\\python312\\site-packages (from python-dateutil>=2.8.2->pandas) (1.16.0)\n",
      "Downloading pandas-2.2.1-cp312-cp312-win_amd64.whl (11.5 MB)\n",
      "   ---------------------------------------- 0.0/11.5 MB ? eta -:--:--\n",
      "   ---------------------------------------- 0.0/11.5 MB ? eta -:--:--\n",
      "   ---------------------------------------- 0.0/11.5 MB ? eta -:--:--\n",
      "   ---------------------------------------- 0.0/11.5 MB 393.8 kB/s eta 0:00:30\n",
      "   ---------------------------------------- 0.1/11.5 MB 804.6 kB/s eta 0:00:15\n",
      "   - -------------------------------------- 0.3/11.5 MB 1.6 MB/s eta 0:00:08\n",
      "   - -------------------------------------- 0.5/11.5 MB 2.0 MB/s eta 0:00:06\n",
      "   --- ------------------------------------ 0.9/11.5 MB 3.1 MB/s eta 0:00:04\n",
      "   -------- ------------------------------- 2.4/11.5 MB 6.9 MB/s eta 0:00:02\n",
      "   --------------- ------------------------ 4.4/11.5 MB 10.7 MB/s eta 0:00:01\n",
      "   -------------------- ------------------- 5.8/11.5 MB 12.3 MB/s eta 0:00:01\n",
      "   ------------------------ --------------- 7.1/11.5 MB 13.3 MB/s eta 0:00:01\n",
      "   ----------------------------- ---------- 8.3/11.5 MB 14.0 MB/s eta 0:00:01\n",
      "   ----------------------------------- ---- 10.2/11.5 MB 15.9 MB/s eta 0:00:01\n",
      "   ---------------------------------------  11.5/11.5 MB 27.3 MB/s eta 0:00:01\n",
      "   ---------------------------------------  11.5/11.5 MB 27.3 MB/s eta 0:00:01\n",
      "   ---------------------------------------  11.5/11.5 MB 27.3 MB/s eta 0:00:01\n",
      "   ---------------------------------------  11.5/11.5 MB 27.3 MB/s eta 0:00:01\n",
      "   ---------------------------------------  11.5/11.5 MB 27.3 MB/s eta 0:00:01\n",
      "   ---------------------------------------  11.5/11.5 MB 27.3 MB/s eta 0:00:01\n",
      "   ---------------------------------------  11.5/11.5 MB 27.3 MB/s eta 0:00:01\n",
      "   ---------------------------------------  11.5/11.5 MB 27.3 MB/s eta 0:00:01\n",
      "   ---------------------------------------  11.5/11.5 MB 27.3 MB/s eta 0:00:01\n",
      "   ---------------------------------------  11.5/11.5 MB 27.3 MB/s eta 0:00:01\n",
      "   ---------------------------------------  11.5/11.5 MB 27.3 MB/s eta 0:00:01\n",
      "   ---------------------------------------  11.5/11.5 MB 27.3 MB/s eta 0:00:01\n",
      "   ---------------------------------------- 11.5/11.5 MB 11.3 MB/s eta 0:00:00\n",
      "Downloading pytz-2024.1-py2.py3-none-any.whl (505 kB)\n",
      "   ---------------------------------------- 0.0/505.5 kB ? eta -:--:--\n",
      "   --------------------------------------  501.8/505.5 kB 32.8 MB/s eta 0:00:01\n",
      "   ---------------------------------------- 505.5/505.5 kB 6.3 MB/s eta 0:00:00\n",
      "Downloading tzdata-2024.1-py2.py3-none-any.whl (345 kB)\n",
      "   ---------------------------------------- 0.0/345.4 kB ? eta -:--:--\n",
      "   ---------------------------------------  337.9/345.4 kB ? eta -:--:--\n",
      "   ---------------------------------------- 345.4/345.4 kB 7.3 MB/s eta 0:00:00\n",
      "Installing collected packages: pytz, tzdata, pandas\n",
      "Successfully installed pandas-2.2.1 pytz-2024.1 tzdata-2024.1\n",
      "Note: you may need to restart the kernel to use updated packages.\n"
     ]
    }
   ],
   "source": [
    "pip install pandas"
   ]
  },
  {
   "cell_type": "code",
   "execution_count": 109,
   "metadata": {},
   "outputs": [
    {
     "name": "stdout",
     "output_type": "stream",
     "text": [
      "Defaulting to user installation because normal site-packages is not writeable\n",
      "Requirement already satisfied: matplotlib in c:\\users\\dovydaiciai\\appdata\\local\\packages\\pythonsoftwarefoundation.python.3.12_qbz5n2kfra8p0\\localcache\\local-packages\\python312\\site-packages (3.8.3)\n",
      "Requirement already satisfied: contourpy>=1.0.1 in c:\\users\\dovydaiciai\\appdata\\local\\packages\\pythonsoftwarefoundation.python.3.12_qbz5n2kfra8p0\\localcache\\local-packages\\python312\\site-packages (from matplotlib) (1.2.0)\n",
      "Requirement already satisfied: cycler>=0.10 in c:\\users\\dovydaiciai\\appdata\\local\\packages\\pythonsoftwarefoundation.python.3.12_qbz5n2kfra8p0\\localcache\\local-packages\\python312\\site-packages (from matplotlib) (0.12.1)\n",
      "Requirement already satisfied: fonttools>=4.22.0 in c:\\users\\dovydaiciai\\appdata\\local\\packages\\pythonsoftwarefoundation.python.3.12_qbz5n2kfra8p0\\localcache\\local-packages\\python312\\site-packages (from matplotlib) (4.50.0)\n",
      "Requirement already satisfied: kiwisolver>=1.3.1 in c:\\users\\dovydaiciai\\appdata\\local\\packages\\pythonsoftwarefoundation.python.3.12_qbz5n2kfra8p0\\localcache\\local-packages\\python312\\site-packages (from matplotlib) (1.4.5)\n",
      "Requirement already satisfied: numpy<2,>=1.21 in c:\\users\\dovydaiciai\\appdata\\local\\packages\\pythonsoftwarefoundation.python.3.12_qbz5n2kfra8p0\\localcache\\local-packages\\python312\\site-packages (from matplotlib) (1.26.4)\n",
      "Requirement already satisfied: packaging>=20.0 in c:\\users\\dovydaiciai\\appdata\\local\\packages\\pythonsoftwarefoundation.python.3.12_qbz5n2kfra8p0\\localcache\\local-packages\\python312\\site-packages (from matplotlib) (24.0)\n",
      "Requirement already satisfied: pillow>=8 in c:\\users\\dovydaiciai\\appdata\\local\\packages\\pythonsoftwarefoundation.python.3.12_qbz5n2kfra8p0\\localcache\\local-packages\\python312\\site-packages (from matplotlib) (10.2.0)\n",
      "Requirement already satisfied: pyparsing>=2.3.1 in c:\\users\\dovydaiciai\\appdata\\local\\packages\\pythonsoftwarefoundation.python.3.12_qbz5n2kfra8p0\\localcache\\local-packages\\python312\\site-packages (from matplotlib) (3.1.2)\n",
      "Requirement already satisfied: python-dateutil>=2.7 in c:\\users\\dovydaiciai\\appdata\\local\\packages\\pythonsoftwarefoundation.python.3.12_qbz5n2kfra8p0\\localcache\\local-packages\\python312\\site-packages (from matplotlib) (2.9.0.post0)\n",
      "Requirement already satisfied: six>=1.5 in c:\\users\\dovydaiciai\\appdata\\local\\packages\\pythonsoftwarefoundation.python.3.12_qbz5n2kfra8p0\\localcache\\local-packages\\python312\\site-packages (from python-dateutil>=2.7->matplotlib) (1.16.0)\n",
      "Note: you may need to restart the kernel to use updated packages.\n"
     ]
    }
   ],
   "source": [
    "pip install matplotlib"
   ]
  },
  {
   "cell_type": "code",
   "execution_count": 110,
   "metadata": {},
   "outputs": [],
   "source": [
    "import matplotlib.pyplot as plt"
   ]
  },
  {
   "cell_type": "code",
   "execution_count": 111,
   "metadata": {},
   "outputs": [],
   "source": [
    "import pandas as pd"
   ]
  }
 ],
 "metadata": {
  "kernelspec": {
   "display_name": "Python 3",
   "language": "python",
   "name": "python3"
  },
  "language_info": {
   "codemirror_mode": {
    "name": "ipython",
    "version": 3
   },
   "file_extension": ".py",
   "mimetype": "text/x-python",
   "name": "python",
   "nbconvert_exporter": "python",
   "pygments_lexer": "ipython3",
   "version": "3.12.2"
  }
 },
 "nbformat": 4,
 "nbformat_minor": 2
}
