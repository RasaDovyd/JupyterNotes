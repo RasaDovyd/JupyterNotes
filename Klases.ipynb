{
 "cells": [
  {
   "cell_type": "code",
   "execution_count": null,
   "metadata": {},
   "outputs": [],
   "source": [
    "# KLKASĖS"
   ]
  },
  {
   "cell_type": "code",
   "execution_count": 1,
   "metadata": {},
   "outputs": [
    {
     "name": "stdout",
     "output_type": "stream",
     "text": [
      "<class 'str'>\n",
      "<class 'int'>\n",
      "<class 'list'>\n"
     ]
    }
   ],
   "source": [
    "s = \"tekstas\"\n",
    "sk = 7\n",
    "sar = []\n",
    "print(type(s), type(sk), type(sar), sep = '\\n')"
   ]
  },
  {
   "cell_type": "code",
   "execution_count": 2,
   "metadata": {},
   "outputs": [],
   "source": [
    "class Asmuo():\n",
    "    pass"
   ]
  },
  {
   "cell_type": "code",
   "execution_count": 4,
   "metadata": {},
   "outputs": [
    {
     "name": "stdout",
     "output_type": "stream",
     "text": [
      "<class '__main__.Asmuo'>\n",
      "<class '__main__.Asmuo'>\n"
     ]
    }
   ],
   "source": [
    "a1 = Asmuo() # norint pasinaudoti klase, reikia parasyti priskyrimo sakini\n",
    "a2 = Asmuo()\n",
    "print(type(a1), type(a2), sep = '\\n')\n",
    "# ___main___-  reiskia, kad klases aprasas egzistuoja sitame faile, o ne importuotoje bibliotekoje."
   ]
  },
  {
   "cell_type": "code",
   "execution_count": 23,
   "metadata": {},
   "outputs": [],
   "source": [
    "Name = \"Petriukas\"\n",
    "class Asmuo(): # klase su aprasu\n",
    "    def __init__(self): # zodis self Pitonui rodo, kad funkcija priklauso klasei, self bus visose klasese ir visuose metoduose\n",
    "        print(\"As katik atsiradau\")\n",
    "        self.Name = 'Jonukas' # aprasytas klases atributas/kintamasis(esantis klases viduje)\n",
    "        pass\n",
    "# i funkcija kreipiamasi automatiskai kai sukuriama klase\n",
    "\n",
    "    def printName(self): # metodas yra funkcija patalpinta klases viduje\n",
    "        print(\"Mano vardas yra Petriukas\")\n",
    "    \n",
    "    def printName(self):\n",
    "        print(Name)\n",
    "        print(self.Name)"
   ]
  },
  {
   "cell_type": "code",
   "execution_count": 21,
   "metadata": {},
   "outputs": [
    {
     "name": "stdout",
     "output_type": "stream",
     "text": [
      "As katik atsiradau\n",
      "As katik atsiradau\n",
      "<class '__main__.Asmuo'>\n",
      "<class '__main__.Asmuo'>\n"
     ]
    }
   ],
   "source": [
    "a1 = Asmuo() # norint pasinaudoti klase, reikia parasyti priskyrimo sakini\n",
    "a2 = Asmuo()\n",
    "print(type(a1), type(a2), sep = '\\n')"
   ]
  },
  {
   "cell_type": "code",
   "execution_count": 24,
   "metadata": {},
   "outputs": [
    {
     "name": "stdout",
     "output_type": "stream",
     "text": [
      "Petriukas\n",
      "Jonukas\n"
     ]
    }
   ],
   "source": [
    "a1.printName() # kreikiames i auksciau aprasyta klase"
   ]
  },
  {
   "cell_type": "code",
   "execution_count": 25,
   "metadata": {},
   "outputs": [],
   "source": [
    "Name = \"Petriukas\"\n",
    "class Asmuo():\n",
    "    def __init__(self, name):\n",
    "        self.Name = name\n",
    "        pass\n",
    "  \n",
    "    def printName(self):\n",
    "        print(self.Name)"
   ]
  },
  {
   "cell_type": "code",
   "execution_count": 27,
   "metadata": {},
   "outputs": [
    {
     "name": "stdout",
     "output_type": "stream",
     "text": [
      "<class '__main__.Asmuo'>\n",
      "<class '__main__.Asmuo'>\n"
     ]
    }
   ],
   "source": [
    "a1 = Asmuo('Jonukas') # norint pasinaudoti klase, reikia parasyti priskyrimo sakini\n",
    "a2 = Asmuo('Petriukas')\n",
    "print(type(a1), type(a2), sep = '\\n')"
   ]
  },
  {
   "cell_type": "code",
   "execution_count": 30,
   "metadata": {},
   "outputs": [
    {
     "name": "stdout",
     "output_type": "stream",
     "text": [
      "Jonukas\n",
      "Petriukas\n"
     ]
    }
   ],
   "source": [
    "a1.printName() # kreikiames i auksciau aprasyta klase\n",
    "a2.printName()"
   ]
  },
  {
   "cell_type": "code",
   "execution_count": 31,
   "metadata": {},
   "outputs": [
    {
     "name": "stdout",
     "output_type": "stream",
     "text": [
      "Onutė\n"
     ]
    }
   ],
   "source": [
    "a3 = Asmuo('Onutė')\n",
    "a3.printName()"
   ]
  },
  {
   "cell_type": "code",
   "execution_count": 42,
   "metadata": {},
   "outputs": [],
   "source": [
    "Name = \"Petriukas\"\n",
    "class Asmuo():\n",
    "    def __init__(self, name):\n",
    "        self.Name = name\n",
    "        pass\n",
    "  \n",
    "    def getName(self):\n",
    "        return self.Name\n",
    "\n",
    "    def setName(self, new_name):\n",
    "        self.Name = new_name"
   ]
  },
  {
   "cell_type": "code",
   "execution_count": 43,
   "metadata": {},
   "outputs": [
    {
     "name": "stdout",
     "output_type": "stream",
     "text": [
      "<class '__main__.Asmuo'>\n",
      "<class '__main__.Asmuo'>\n"
     ]
    }
   ],
   "source": [
    "a1 = Asmuo('Jonukas') # norint pasinaudoti klase, reikia parasyti priskyrimo sakini\n",
    "a2 = Asmuo('Petriukas')\n",
    "print(type(a1), type(a2), sep = '\\n')"
   ]
  },
  {
   "cell_type": "code",
   "execution_count": 36,
   "metadata": {},
   "outputs": [],
   "source": [
    "a1.Name = 'Marytė'"
   ]
  },
  {
   "cell_type": "code",
   "execution_count": 38,
   "metadata": {},
   "outputs": [
    {
     "name": "stdout",
     "output_type": "stream",
     "text": [
      "Marytė\n"
     ]
    }
   ],
   "source": [
    "print(a1.Name)"
   ]
  },
  {
   "cell_type": "code",
   "execution_count": 44,
   "metadata": {},
   "outputs": [
    {
     "name": "stdout",
     "output_type": "stream",
     "text": [
      "Jonukas\n"
     ]
    }
   ],
   "source": [
    "ats = a1.getName() # kreikiames i auksciau aprasyta klase\n",
    "print(ats)"
   ]
  },
  {
   "cell_type": "code",
   "execution_count": 45,
   "metadata": {},
   "outputs": [
    {
     "name": "stdout",
     "output_type": "stream",
     "text": [
      "Jonukas\n",
      "Vardenis\n"
     ]
    }
   ],
   "source": [
    "print(a1.getName())\n",
    "a1.setName('Vardenis')\n",
    "print(a1.getName())"
   ]
  },
  {
   "cell_type": "code",
   "execution_count": 46,
   "metadata": {},
   "outputs": [],
   "source": [
    "Name = \"Petriukas\"\n",
    "class Asmuo():\n",
    "    def __init__(self, name, gm):\n",
    "        self.Name = name\n",
    "        self.BYear = gm\n",
    "        self.Age = 2024- self.BYear\n",
    "        pass\n",
    "  \n",
    "    def getName(self):\n",
    "        return self.Name\n",
    "\n",
    "    def setName(self, new_name):\n",
    "        self.Name = new_name"
   ]
  },
  {
   "cell_type": "code",
   "execution_count": 49,
   "metadata": {},
   "outputs": [
    {
     "name": "stdout",
     "output_type": "stream",
     "text": [
      "28 Vardenis\n"
     ]
    }
   ],
   "source": [
    "a1 = Asmuo(\"Vardenis\", 1996)\n",
    "print(a1.Age, a1.getName())"
   ]
  },
  {
   "cell_type": "code",
   "execution_count": 72,
   "metadata": {},
   "outputs": [],
   "source": [
    "def calculateAge():\n",
    "    return \"Cha !!!\"\n",
    "\n",
    "class Asmuo():\n",
    "    def __init__(self, name, gm):\n",
    "        self.Name = name\n",
    "        self.BYear = gm\n",
    "        self.Age = self.calculateAge() #kadangi cia nera zodelio self., i sia funkcija nesikreipiama, kreipiamasi i 1 eilutes funkcija.\n",
    "        pass\n",
    "  \n",
    "    def getName(self):\n",
    "        return self.Name\n",
    "\n",
    "    def setName(self, new_name):\n",
    "        self.Name = new_name\n",
    "\n",
    "    def calculateAge(self):\n",
    "        return 2024-self.BYear"
   ]
  },
  {
   "cell_type": "code",
   "execution_count": 73,
   "metadata": {},
   "outputs": [
    {
     "name": "stdout",
     "output_type": "stream",
     "text": [
      "28 Vardenis\n"
     ]
    }
   ],
   "source": [
    "a1 = Asmuo(\"Vardenis\", 1996)\n",
    "print(a1.Age, a1.getName())"
   ]
  },
  {
   "cell_type": "code",
   "execution_count": 77,
   "metadata": {},
   "outputs": [],
   "source": [
    "# PAVELDĖJIMAS\n",
    "# trumpam prireikus, kad klase turetu kitoki metoda, naudojamas klasiu paveldejimas\n",
    "\n",
    "class Studentas(Asmuo): # tevines klases pavadinimas (Asmuo)\n",
    "    def getStatus(self):\n",
    "        return \"Studentas\""
   ]
  },
  {
   "cell_type": "code",
   "execution_count": 78,
   "metadata": {},
   "outputs": [],
   "source": [
    "std1 = Studentas('Unė', 1992)"
   ]
  },
  {
   "cell_type": "code",
   "execution_count": 79,
   "metadata": {},
   "outputs": [
    {
     "name": "stdout",
     "output_type": "stream",
     "text": [
      "32 Unė\n"
     ]
    }
   ],
   "source": [
    "print(std1.Age, std1.getName())"
   ]
  },
  {
   "cell_type": "code",
   "execution_count": 80,
   "metadata": {},
   "outputs": [
    {
     "data": {
      "text/plain": [
       "'Studentas'"
      ]
     },
     "execution_count": 80,
     "metadata": {},
     "output_type": "execute_result"
    }
   ],
   "source": [
    "std1.getStatus()"
   ]
  },
  {
   "cell_type": "code",
   "execution_count": 89,
   "metadata": {},
   "outputs": [],
   "source": [
    "# SUDETINGESNIS PAVELDEJIMO ATVEJIS\n",
    "\n",
    "class Studentas(Asmuo):\n",
    "    def __init__(self, name, gm):\n",
    "        super().__init__(name, gm)\n",
    "        self.Enroll = True\n",
    "        \n",
    "std1 = Studentas('Une', 1996)"
   ]
  },
  {
   "cell_type": "code",
   "execution_count": 93,
   "metadata": {},
   "outputs": [
    {
     "name": "stdout",
     "output_type": "stream",
     "text": [
      "28 True\n"
     ]
    }
   ],
   "source": [
    "print(std1.Age, std1.Enroll)"
   ]
  },
  {
   "cell_type": "code",
   "execution_count": 142,
   "metadata": {},
   "outputs": [],
   "source": [
    "# aprašykite klasę Kvadratas\n",
    "# kreipiantis į klasę, reikia nurodyti kvadrato ilgį a.\n",
    "# Klasė turi turėti atributą Plotas, kurį \n",
    "# turi apskaičiuoti klasės kūrimo metu.\n",
    "# Plotas = a*a\n",
    "# parašykite metodą, kuris grąžintų apskaičiuoto Plotas atributo reikšmę."
   ]
  },
  {
   "cell_type": "code",
   "execution_count": 143,
   "metadata": {},
   "outputs": [
    {
     "name": "stdout",
     "output_type": "stream",
     "text": [
      "196\n"
     ]
    }
   ],
   "source": [
    "class Kvadratas():\n",
    "    def __init__(self ,a): #aprasome kintamuosius\n",
    "        self.Plotas = a*a\n",
    "    def plotas(self):      # aprasome funkcija\n",
    "        return self.Plotas\n",
    "kvadratu = Kvadratas(a=14) # issikvieciam klase\n",
    "print(kvadratu.plotas())  # issikvieciam funkcija"
   ]
  },
  {
   "cell_type": "code",
   "execution_count": 153,
   "metadata": {},
   "outputs": [
    {
     "name": "stdout",
     "output_type": "stream",
     "text": [
      "50\n",
      "30\n"
     ]
    }
   ],
   "source": [
    "# aprašykite klasę Rectangle\n",
    "# kreipiantis į klasę, reikia nurodyti stačiakampio\n",
    "# kraštines a ir b.\n",
    "# Realizuokite atributą Plotas = a*b\n",
    "# ir metodą, grąžinantį Ploto reikšmę\n",
    "# Taip pat pridėkite metodą, apskaičiuojantį ir grąžinantį\n",
    "# perimetrą P=2(a+b)\n",
    "\n",
    "class Rectangle():\n",
    "    def __init__(self, a, b): #aprasome kintamuosius\n",
    "        self.Plotas = a * b\n",
    "        self.Perimetras = 2*(a + b)\n",
    "\n",
    "    def plotas(self):      # aprasome funkcija\n",
    "        return self.Plotas\n",
    "\n",
    "    def perimetras(self):      # aprasome funkcija\n",
    "        return self.Perimetras\n",
    "\n",
    "figura = Rectangle(a=10, b=5) # issikvieciam klase\n",
    "print(figura.plotas(), figura.perimetras(), sep = '\\n')  # issikvieciam funkcija\n"
   ]
  },
  {
   "cell_type": "code",
   "execution_count": 157,
   "metadata": {},
   "outputs": [
    {
     "name": "stdout",
     "output_type": "stream",
     "text": [
      "1000\n",
      "600\n"
     ]
    }
   ],
   "source": [
    "# kubas\n",
    "\n",
    "class Kubas():\n",
    "    def __init__(self, a): #aprasome kintamuosius\n",
    "        self.Turis = a ** 3\n",
    "        self.Plotas = 6 * (a**2)\n",
    "\n",
    "    def turis(self):      # aprasome funkcija\n",
    "        return self.Turis\n",
    "    def plotas(self):      # aprasome funkcija\n",
    "        return self.Plotas\n",
    "\n",
    "figura = Kubas(a=10) # issikvieciam klase\n",
    "print(figura.turis(), figura.plotas(), sep='\\n')  # issikvieciam funkcija"
   ]
  },
  {
   "cell_type": "code",
   "execution_count": 182,
   "metadata": {},
   "outputs": [
    {
     "name": "stdout",
     "output_type": "stream",
     "text": [
      "c:\\Users\\Dovydaiciai\\Documents\\Python mokymai\\Python\\Git\\JupyterNotes\n"
     ]
    }
   ],
   "source": [
    "where = os.getcwd()\n",
    "print(where)"
   ]
  },
  {
   "cell_type": "code",
   "execution_count": 190,
   "metadata": {},
   "outputs": [
    {
     "name": "stdout",
     "output_type": "stream",
     "text": [
      "Galbūt per daug ir per ilgai mes kariavom,\n",
      "Galbūt per ilgai kartojom žodį \"šlovė\" (jė-jė, jė-jė)\n",
      "Gal kartais per daug iš kitų reikalavom\n",
      "Ir kartais per tyliai mes norėjom nugalėt.\n"
     ]
    }
   ],
   "source": [
    "#susikurkite su Notepadu tekstinį failą su bet kokiu tekstu\n",
    "#parašykite klasę TxtReader, kuriai kreipimosi metu būtų nurodomas tekstinio failo pavadinimas;\n",
    "#klasės sukūrimo metu tas tekstinis failas turi būti nuskaitomas\n",
    "#ir nuskaitytas tekstas turi būti priskirtas atributui Text\n",
    "#parašykite metodą getText(), kuri grąžintų atributo text reikšmę\n",
    "\n",
    "class TxtReader():\n",
    "    def __init__(self, file_name):\n",
    "        self.file_name = file_name\n",
    "        file = open(fname, mode='r', encoding= 'utf-8')\n",
    "        self.Text = file.read()\n",
    "        file.close()\n",
    "    def getText(self):\n",
    "        return self.Text\n",
    "Tekstas=TxtReader('Tekstas 04_08')\n",
    "print(Tekstas.getText())"
   ]
  },
  {
   "cell_type": "code",
   "execution_count": 193,
   "metadata": {},
   "outputs": [
    {
     "name": "stdout",
     "output_type": "stream",
     "text": [
      "Turis:\n",
      "4186.666666666667\n",
      "Plotas:\n",
      "1256.0\n"
     ]
    }
   ],
   "source": [
    "#Sukurkite klasę Rutulys\n",
    "#kuriai galėtumėte nurodyti Rutulio spindulį r.\n",
    "#Sukurkite metodus, skirtus rasti jo Tūriui ir paviršiaus plotui;\n",
    "#Taip pat metodą, kuriuo jūs pakeistumėte spindulio r reikšmę.\n",
    "\n",
    "class Rutulys():\n",
    "    def __init__(self, r): #aprasome kintamuosius\n",
    "        self.Turis = (3.14*(r**3))*4/3\n",
    "        self.Plotas = 4*(3.14*(r**2))\n",
    "\n",
    "    def turis(self):      # aprasome funkcija\n",
    "        return self.Turis\n",
    "\n",
    "    def plotas(self):      # aprasome funkcija\n",
    "        return self.Plotas\n",
    "\n",
    "figura = Rutulys(r = 10) # issikvieciam klase\n",
    "print(\"Turis:\", figura.turis(), \"Plotas:\", figura.plotas(), sep = '\\n')  # issikvieciam funkcija\n"
   ]
  },
  {
   "cell_type": "code",
   "execution_count": 225,
   "metadata": {},
   "outputs": [
    {
     "name": "stdout",
     "output_type": "stream",
     "text": [
      "314.0\n",
      "523.3333333333334\n",
      "1256.0\n",
      "4186.666666666667\n"
     ]
    }
   ],
   "source": [
    "# Editos pvz. klaseje. Kai spinduli reiki ivesti po klausimo, su vartotojo ivestnimi\n",
    "class Rutulys():\n",
    "    def __init__ (self, r):\n",
    "        self.r = r\n",
    "           \n",
    "    def getPav_Plotas(self):\n",
    "        Pav_Plotas = 4*3.14*self.r**2\n",
    "        return Pav_Plotas\n",
    "\n",
    "    def getTūris(self):\n",
    "        Tūris = 4/3*3.14*self.r**3\n",
    "        return Tūris\n",
    "    \n",
    "    def changer(self, new_r): #metodas skirtas spindulio keitimui\n",
    "        self.r = new_r\n",
    "        \n",
    "r = int(input(\"Įveskite spindulį r\"))\n",
    "rutulys  = Rutulys(r)\n",
    "print(rutulys.getPav_Plotas())\n",
    "print(rutulys.getTūris())\n",
    "\n",
    "r = int(input(\"Įveskite spindulį r\"))\n",
    "rutulys.changer(r)\n",
    "print(rutulys.getPav_Plotas())\n",
    "print(rutulys.getTūris())"
   ]
  },
  {
   "cell_type": "code",
   "execution_count": 226,
   "metadata": {},
   "outputs": [
    {
     "name": "stdout",
     "output_type": "stream",
     "text": [
      "Plotas:  78.5\n",
      "Perimetras:  31.400000000000002\n",
      "Plotas:  153.86\n",
      "Perimetras:  43.96\n"
     ]
    }
   ],
   "source": [
    "# Parašykite klasę Apskritimas, kuriai glite nurodyti apskritimo spindulį r.\n",
    "# Erealizuokite du metodus getS ir getP, plotui ir perimetrui gražinti.\n",
    "# taip pat pridėkite metodą, skirtą spindulio keitimui \n",
    "# P=2*pi*r\n",
    "# S=pi*r^2\n",
    "\n",
    "class Apskritimas():\n",
    "    def __init__ (self, r):\n",
    "        self.r = r\n",
    "           \n",
    "    def getS(self):\n",
    "        Plotas = 3.14*r**2\n",
    "        return Plotas\n",
    "\n",
    "    def getP(self):\n",
    "        Perimetras = 2*3.14*r\n",
    "        return Perimetras\n",
    "    \n",
    "    def changer(self, naujas_r):\n",
    "        self.r = naujas_r\n",
    "        \n",
    "r = int(input(\"Įveskite spindulį r: \"))\n",
    "apskritimas  = Apskritimas(r)\n",
    "print(\"Plotas: \", apskritimas.getS())\n",
    "print(\"Perimetras: \",apskritimas.getP())\n",
    "\n",
    "r = int(input(\"Įveskite spindulį r: \"))\n",
    "apskritimas  = Apskritimas(r)\n",
    "print(\"Plotas: \", apskritimas.getS())\n",
    "print(\"Perimetras: \",apskritimas.getP())"
   ]
  },
  {
   "cell_type": "code",
   "execution_count": 228,
   "metadata": {},
   "outputs": [
    {
     "name": "stdout",
     "output_type": "stream",
     "text": [
      "157.0\n",
      "31.400000000000002\n",
      "628.0\n",
      "62.800000000000004\n"
     ]
    }
   ],
   "source": [
    "#advanced Apskritimas:\n",
    "#padarykite taip, jog klasė Apskritimas turėtų atributus S ir P, plotui ir perimetrui, ir kad atnaujinus spindulį r, automatiškai pasikeistų S ir P atributų reikšmės, o getS, getP metodai, kaip ir anksčiau grąžintų S ir P atributų reikšmes.\n",
    "\n",
    "#Remigijaus sprendimas\n",
    "class Apskritimas():\n",
    "    def __init__(self, r):\n",
    "        self.r = r\n",
    "        self.S = 2*3.14*r**2\n",
    "        self.P = 2*3.14*r\n",
    "        \n",
    "    def getS(self):\n",
    "        return self.S\n",
    "    \n",
    "    def getP (self):\n",
    "        return self.P\n",
    "    \n",
    "    def change (self, new_r):\n",
    "        self.r = new_r\n",
    "        self.S = 2*3.14*new_r**2\n",
    "        self.P = 2*3.14*new_r\n",
    "    \n",
    "aps = Apskritimas(5)\n",
    "print(aps.getS())\n",
    "print(aps.getP())\n",
    "aps.change(10)\n",
    "print(aps.getS())\n",
    "print(aps.getP())"
   ]
  },
  {
   "cell_type": "code",
   "execution_count": 229,
   "metadata": {},
   "outputs": [
    {
     "name": "stdout",
     "output_type": "stream",
     "text": [
      "31.400000000000002 78.5\n",
      "62.800000000000004 314.0\n"
     ]
    }
   ],
   "source": [
    "# Destytojo varianatas\n",
    "\n",
    "class Apskritimas():\n",
    "    def __init__(self, r):\n",
    "        self.R = r\n",
    "        self.S = 0\n",
    "        self.P = 0\n",
    "        self.upadeAll()\n",
    "    \n",
    "    def getP(self):\n",
    "        return self.P\n",
    "    \n",
    "    def getS(self):\n",
    "        return self.S\n",
    "    \n",
    "    def upadeAll(self):\n",
    "        self.S = 3.14*self.R**2\n",
    "        self.P = 2*3.14*self.R\n",
    "        \n",
    "    def change(self, new_r):\n",
    "        self.R = new_r\n",
    "        self.upadeAll()\n",
    "\n",
    "a = Apskritimas(5)\n",
    "print(a.getP(), a.getS())\n",
    "a.change(10)\n",
    "print(a.getP(), a.getS())"
   ]
  },
  {
   "cell_type": "code",
   "execution_count": 244,
   "metadata": {},
   "outputs": [
    {
     "name": "stdout",
     "output_type": "stream",
     "text": [
      "Plotas: \n",
      "50\n",
      "Perimetras: \n",
      "30\n",
      "Piramides turis:  10.0\n",
      "Kubo turis:  30\n"
     ]
    }
   ],
   "source": [
    "#užduotis su paveldjimu:\n",
    "#parašykite klasę Rectangle, kurioje būtų ilgio ir pločio atributai, bei du metodai - getS - plotui ir getP -perimetrui rasti\n",
    "#Sukurkite išvestinę (child) klasę Kubas, kuri papildomai turėtų Tūrio skaičiavimo metodą\n",
    "#• Klasę Piramidė - išvestinė klasė (child class). Pridėkite\n",
    "# papildomą funkcionalumą - metodą, argumentus piramidės\n",
    "# tūrio skaičiavimui.\n",
    "class Rectangle():\n",
    "    def __init__(self, a, b): \n",
    "        self.S = a * b\n",
    "        self.P = 2*(a + b)\n",
    "\n",
    "    def getP(self):      \n",
    "        return self.P\n",
    "\n",
    "    def getS(self):      \n",
    "        return self.S\n",
    "figura = Rectangle(a=10, b=5)\n",
    "print(\"Plotas: \", figura.getS(), \"Perimetras: \",figura.getP(), sep = '\\n')\n",
    "\n",
    "class Piramide(Rectangle):\n",
    "    def __init__ (self, a, b, h):\n",
    "        super().__init__(a, b) # cia atkeliavo is Rectangle funkcijos, 9 eilute\n",
    "        self.h = h\n",
    "    def get_piramides_turis(self):\n",
    "        Turis = 1/3*self.S*self.h\n",
    "        return Turis\n",
    "figura = Piramide(a= 2, b=3, h=5)\n",
    "print(\"Piramides turis: \", figura.get_piramides_turis())\n",
    "\n",
    "class Kubas(Rectangle):\n",
    "    def __init__ (self, a, b, h):\n",
    "        super().__init__(a, b) # cia atkeliavo is Rectangle funkcijos, 9 eilute\n",
    "        self.a = h\n",
    "    def getKubo_turis(self):\n",
    "        Turis = self.S*self.a\n",
    "        return Turis\n",
    "figura = Kubas(a= 2, b=5, h= 3)\n",
    "print(\"Kubo turis: \", figura.getKubo_turis())"
   ]
  },
  {
   "cell_type": "code",
   "execution_count": 267,
   "metadata": {},
   "outputs": [],
   "source": [
    "# Namu darbas\n",
    "# parašykite klasę TxtAnalyzer, kuriai kreipimosi metu galima būtų nurodyti failo pavadinimą ir stulpelių skirtuką.\n",
    "# klasė sukūrimo metu turi nuskaityti failą, stulpelius skaičių suskirstyti į sąrašus ir juos priskirti atributams X, Y ir Z.\n",
    "# Realizuokite metodus, kurie grąžintų X, Y, Z sąrašų vidurkius, minimalias ir maksimalias vertes. Pythone yra min, max, sum funkcijos;\n",
    "\n",
    "# class TxtReader():\n",
    "#     def __init__(self, file_name):\n",
    "#         self.file_name = file_name\n",
    "#         file = open(fname, mode='r', encoding= 'utf-8')\n",
    "#         self.Text = file.read()\n",
    "#         file.close()\n",
    "#     def getText(self):\n",
    "#         return self.Text\n",
    "# Tekstas=TxtReader('Tekstas 04_08')\n",
    "# print(Tekstas.getText())\n",
    "\n",
    "class TxtAnalyzer():\n",
    "    def __init__(self, file_name, skirtukas):\n",
    "        self.file_name = file_name\n",
    "        file = open(fname, mode='r', encoding= 'utf-8')\n",
    "        self.Text = file.readlines\n",
    "        file.close()\n",
    "        print(self.Text)\n",
    "    def getText(self):\n",
    "        return self.Text\n",
    "        x = []\n",
    "        y = []\n",
    "        z = []\n",
    "        for eilute in self.Text:\n",
    "            x.append(float(eilute.split(skirtukas)[0]))\n",
    "            y.append(float(eilute.split(skirtukas)[1]))           \n",
    "            z.append(float(eilute.split(skirtukas)[2]))\n",
    "        print(x, y, z, sep= '\\n')\n",
    "    def vidurkis(self):\n",
    "        return (sum(x)/len(x))\n",
    "        return (sum(y)/len(y))\n",
    "        return (sum(z)/len(z))\n",
    "    def minimali(self):\n",
    "        return (min(x))\n",
    "        return (min(y))\n",
    "        return (min(z))\n",
    "    def maksimali(self):\n",
    "        return (max(x))\n",
    "        return (max(y))\n",
    "        return (max(z))\n",
    "\n",
    "fileName = input(\"Įveskite failo pavadinimą: \")\n",
    "skirtukas = input(\"Įveskite skirtuką: \")\n",
    "sarasai  = TxtAnalyzer(\"fileName\", \"skirtukas\")\n",
    "print(\"x sąrašo vidurkis: \", sarasai.vidurkis(x), \"y sąrašo vidurkis: \", sarasai.vidurkis(y),  \"z sąrašo vidurkis: \", sarasai.vidurkis(z), sep='\\n')\n",
    "print(\"x sąrašo minimali reikšmė: \", sarasai.minimali(x), \"y sąrašo minimali reikšmė: \", sarasai.minimali(y), \"z sąrašo minimali reikšmė: \", sarasai.minimali(z), sep='\\n')\n",
    "print(\"x sąrašo maksimali reikšmė: \", sarasai.kmaksimali(x) \"y sąrašo maksimali reikšmė: \", sarasai.kmaksimali(y), \"z sąrašo maksimali reikšmė: \", sarasai.kmaksimali(z), sep='\\n')"
   ]
  }
 ],
 "metadata": {
  "kernelspec": {
   "display_name": "Python 3",
   "language": "python",
   "name": "python3"
  },
  "language_info": {
   "codemirror_mode": {
    "name": "ipython",
    "version": 3
   },
   "file_extension": ".py",
   "mimetype": "text/x-python",
   "name": "python",
   "nbconvert_exporter": "python",
   "pygments_lexer": "ipython3",
   "version": "3.12.2"
  }
 },
 "nbformat": 4,
 "nbformat_minor": 2
}
